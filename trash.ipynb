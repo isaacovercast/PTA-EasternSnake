{
 "cells": [
  {
   "cell_type": "code",
   "execution_count": 25,
   "metadata": {},
   "outputs": [
    {
     "name": "stdout",
     "output_type": "stream",
     "text": [
      "The autoreload extension is already loaded. To reload it, use:\n",
      "  %reload_ext autoreload\n",
      "40\n",
      "/home/isaac/easySFS/easySFS.py\r\n"
     ]
    }
   ],
   "source": [
    "%load_ext autoreload\n",
    "%autoreload 2\n",
    "%matplotlib inline\n",
    "\n",
    "import glob\n",
    "import ipyparallel as ipp\n",
    "import momi\n",
    "import numpy as np\n",
    "import os\n",
    "import pandas as pd\n",
    "import PTA\n",
    "\n",
    "from IPython.display import display\n",
    "\n",
    "pd.set_option('display.max_columns', None)\n",
    "\n",
    "ipyclient = ipp.Client(cluster_id=\"ipyrad\")\n",
    "print(len(ipyclient))\n",
    "\n",
    "# For this to work dadi must be installed\n",
    "easySFS = \"/home/isaac/easySFS/easySFS.py\"\n",
    "!which $easySFS"
   ]
  },
  {
   "cell_type": "code",
   "execution_count": 38,
   "metadata": {},
   "outputs": [
    {
     "name": "stdout",
     "output_type": "stream",
     "text": [
      "  [####################] 100%  Finished 1 simulations in   0:00:00 | \n",
      " "
     ]
    }
   ],
   "source": [
    "# Unsorted\n",
    "model = PTA.DemographicModel(\"expanding-unsorted-props\")\n",
    "model.set_param(\"project_dir\", \"/tmp/PTA-tmp\")\n",
    "model.set_param(\"npops\", 9)\n",
    "model.set_param(\"nsamps\", 8)\n",
    "model.set_param(\"N_e\", \"2e5-5e6\")\n",
    "model.set_param(\"tau\", \"1e4-1e6\")\n",
    "model.set_param(\"epsilon\", \"0.01-0.1\")\n",
    "model.set_param(\"length\", \"150\")\n",
    "#computationally impractical to simulate 2e4 loci for 20 pops, but this is how you'd do it.\n",
    "#model.set_param(\"num_replicates\", [nloci_dict[x] for x in expanding_pops])\n",
    "model.set_param(\"num_replicates\", 500)\n",
    "model.set_param(\"recoms_per_gen\", 0)\n",
    "model.set_param(\"muts_per_gen\", 6.6e-9)\n",
    "#print(model.get_params())\n",
    "\n",
    "model._hackersonly[\"sorted_sfs\"] = False\n",
    "model._hackersonly[\"proportional_msfs\"] = True\n",
    "msfs = model.serial_simulate(nsims=1, quiet=False, verbose=False)[0]"
   ]
  },
  {
   "cell_type": "code",
   "execution_count": 39,
   "metadata": {},
   "outputs": [
    {
     "name": "stdout",
     "output_type": "stream",
     "text": [
      "2600000.0\n",
      "zeta                                                     0.141261\n",
      "zeta_e                                                          1\n",
      "psi                                                             0\n",
      "t_s                                                     0.0915138\n",
      "pops_per_tau                          [1, 1, 1, 1, 1, 1, 1, 1, 1]\n",
      "taus            [0.09151384615384615, 0.13899134615384615, 0.0...\n",
      "epsilons        [0.09026233021422692, 0.027151027905521714, 0....\n",
      "N_es            [4095264, 2471895, 3386433, 830063, 2363324, 4...\n",
      "dtype: object\n",
      "       zeta  zeta_e  psi       t_s     omega  taus_mean  taus_std  \\\n",
      "0  0.141261       1    0  0.091514  0.018823   0.083108  0.039552   \n",
      "\n",
      "   taus_skewness  taus_kurtosis  taus_median  taus_iqr  epsilons_mean  \\\n",
      "0      -0.122253      -1.311865     0.091514  0.062416       0.061088   \n",
      "\n",
      "   epsilons_std  epsilons_skewness  epsilons_kurtosis  epsilons_median  \\\n",
      "0       0.02875          -0.206474          -1.515863         0.061842   \n",
      "\n",
      "   epsilons_iqr     Ne_s_mean      Ne_s_std  Ne_s_skewness  Ne_s_kurtosis  \\\n",
      "0      0.062167  2.674787e+06  1.029497e+06      -0.103395      -0.847886   \n",
      "\n",
      "   Ne_s_median   Ne_s_iqr  \n",
      "0    2471895.0  1176114.0  \n",
      "[0.09151385 0.13899135 0.02690423 0.02678712 0.09469192 0.13142058\n",
      " 0.05194923 0.11436519 0.07134423]\n"
     ]
    }
   ],
   "source": [
    "print(model._Ne_ave)\n",
    "from scipy.stats import hmean\n",
    "print(msfs._full_params)\n",
    "print(msfs.stats)\n",
    "print(msfs._full_params.taus)\n",
    "Ne_pre = msfs._full_params.N_es * msfs._full_params.epsilons\n"
   ]
  },
  {
   "cell_type": "code",
   "execution_count": 41,
   "metadata": {},
   "outputs": [
    {
     "data": {
      "text/html": [
       "<div>\n",
       "<style scoped>\n",
       "    .dataframe tbody tr th:only-of-type {\n",
       "        vertical-align: middle;\n",
       "    }\n",
       "\n",
       "    .dataframe tbody tr th {\n",
       "        vertical-align: top;\n",
       "    }\n",
       "\n",
       "    .dataframe thead th {\n",
       "        text-align: right;\n",
       "    }\n",
       "</style>\n",
       "<table border=\"1\" class=\"dataframe\">\n",
       "  <thead>\n",
       "    <tr style=\"text-align: right;\">\n",
       "      <th></th>\n",
       "      <th>pop0</th>\n",
       "      <th>pop1</th>\n",
       "      <th>pop2</th>\n",
       "      <th>pop3</th>\n",
       "      <th>pop4</th>\n",
       "      <th>pop5</th>\n",
       "      <th>pop6</th>\n",
       "      <th>pop7</th>\n",
       "      <th>pop8</th>\n",
       "    </tr>\n",
       "  </thead>\n",
       "  <tbody>\n",
       "    <tr>\n",
       "      <th>[[7_1]]</th>\n",
       "      <td>0.643781</td>\n",
       "      <td>0.754149</td>\n",
       "      <td>0.554719</td>\n",
       "      <td>0.788069</td>\n",
       "      <td>0.701858</td>\n",
       "      <td>0.701715</td>\n",
       "      <td>0.650472</td>\n",
       "      <td>0.789733</td>\n",
       "      <td>0.694700</td>\n",
       "    </tr>\n",
       "    <tr>\n",
       "      <th>[[6_2]]</th>\n",
       "      <td>0.171502</td>\n",
       "      <td>0.169819</td>\n",
       "      <td>0.218875</td>\n",
       "      <td>0.138148</td>\n",
       "      <td>0.173992</td>\n",
       "      <td>0.161120</td>\n",
       "      <td>0.180837</td>\n",
       "      <td>0.148569</td>\n",
       "      <td>0.183756</td>\n",
       "    </tr>\n",
       "    <tr>\n",
       "      <th>[[5_3]]</th>\n",
       "      <td>0.134157</td>\n",
       "      <td>0.061366</td>\n",
       "      <td>0.155959</td>\n",
       "      <td>0.054945</td>\n",
       "      <td>0.092886</td>\n",
       "      <td>0.095814</td>\n",
       "      <td>0.109312</td>\n",
       "      <td>0.050346</td>\n",
       "      <td>0.086406</td>\n",
       "    </tr>\n",
       "    <tr>\n",
       "      <th>[[4_4]]</th>\n",
       "      <td>0.050560</td>\n",
       "      <td>0.014666</td>\n",
       "      <td>0.070447</td>\n",
       "      <td>0.018838</td>\n",
       "      <td>0.031264</td>\n",
       "      <td>0.041351</td>\n",
       "      <td>0.059379</td>\n",
       "      <td>0.011352</td>\n",
       "      <td>0.035138</td>\n",
       "    </tr>\n",
       "  </tbody>\n",
       "</table>\n",
       "</div>"
      ],
      "text/plain": [
       "             pop0      pop1      pop2      pop3      pop4      pop5      pop6  \\\n",
       "[[7_1]]  0.643781  0.754149  0.554719  0.788069  0.701858  0.701715  0.650472   \n",
       "[[6_2]]  0.171502  0.169819  0.218875  0.138148  0.173992  0.161120  0.180837   \n",
       "[[5_3]]  0.134157  0.061366  0.155959  0.054945  0.092886  0.095814  0.109312   \n",
       "[[4_4]]  0.050560  0.014666  0.070447  0.018838  0.031264  0.041351  0.059379   \n",
       "\n",
       "             pop7      pop8  \n",
       "[[7_1]]  0.789733  0.694700  \n",
       "[[6_2]]  0.148569  0.183756  \n",
       "[[5_3]]  0.050346  0.086406  \n",
       "[[4_4]]  0.011352  0.035138  "
      ]
     },
     "execution_count": 41,
     "metadata": {},
     "output_type": "execute_result"
    }
   ],
   "source": [
    "msfs.df"
   ]
  },
  {
   "cell_type": "code",
   "execution_count": 34,
   "metadata": {},
   "outputs": [
    {
     "data": {
      "text/plain": [
       "1.0"
      ]
     },
     "execution_count": 34,
     "metadata": {},
     "output_type": "execute_result"
    }
   ],
   "source": [
    "np.mean(1)"
   ]
  }
 ],
 "metadata": {
  "kernelspec": {
   "display_name": "Python 3",
   "language": "python",
   "name": "python3"
  },
  "language_info": {
   "codemirror_mode": {
    "name": "ipython",
    "version": 3
   },
   "file_extension": ".py",
   "mimetype": "text/x-python",
   "name": "python",
   "nbconvert_exporter": "python",
   "pygments_lexer": "ipython3",
   "version": "3.6.12"
  }
 },
 "nbformat": 4,
 "nbformat_minor": 4
}
