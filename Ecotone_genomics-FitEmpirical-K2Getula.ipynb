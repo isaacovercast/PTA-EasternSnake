{
 "cells": [
  {
   "cell_type": "markdown",
   "metadata": {},
   "source": [
    "Empirical analysis with Getula eastern pops lumped following K=2\n",
    "* 8 populations total and downsampling to 8 haploid samples per population"
   ]
  },
  {
   "cell_type": "code",
   "execution_count": 23,
   "metadata": {},
   "outputs": [
    {
     "name": "stdout",
     "output_type": "stream",
     "text": [
      "The autoreload extension is already loaded. To reload it, use:\n",
      "  %reload_ext autoreload\n",
      "40\n",
      "/home/isaac/easySFS/easySFS.py\n"
     ]
    }
   ],
   "source": [
    "%load_ext autoreload\n",
    "%autoreload 2\n",
    "%matplotlib inline\n",
    "\n",
    "import datetime\n",
    "import glob\n",
    "import ipyparallel as ipp\n",
    "import matplotlib.pyplot as plt\n",
    "import momi\n",
    "import numpy as np\n",
    "import os\n",
    "import pandas as pd\n",
    "import PTA\n",
    "\n",
    "from IPython.display import display\n",
    "\n",
    "pd.set_option('display.max_columns', None)\n",
    "\n",
    "ipyclient = ipp.Client(cluster_id=\"ipyrad\")\n",
    "print(len(ipyclient))\n",
    "\n",
    "# For this to work dadi must be installed\n",
    "easySFS = \"/home/isaac/easySFS/easySFS.py\"\n",
    "!which $easySFS\n"
   ]
  },
  {
   "cell_type": "code",
   "execution_count": 2,
   "metadata": {},
   "outputs": [
    {
     "data": {
      "text/plain": [
       "['Acontortrix_p123_v2_25miss_popAcontortrix',\n",
       " 'Dpunctatus_p123_v3_25missEAST_popDpunctatus',\n",
       " 'Lgetula_p123_v2_25miss_popk2east',\n",
       " 'Lgetula_p123_v2_25miss_popk4get',\n",
       " 'Lgetula_p123_v2_25miss_popk4holbnig',\n",
       " 'Mflagellum_p123_v3_25missEast_popeast',\n",
       " 'Pguttatus_p123_v2_25miss_popemor',\n",
       " 'Pguttatus_p123_v2_25miss_popgut',\n",
       " 'Sdekayi_p123_v2_25miss_popSdekayi',\n",
       " 'abacura_only_popeast',\n",
       " 'abacura_only_popwest',\n",
       " 'erytro_poperytro',\n",
       " 'milks_denovo-92_popelap',\n",
       " 'milks_denovo-92_poptri']"
      ]
     },
     "execution_count": 2,
     "metadata": {},
     "output_type": "execute_result"
    }
   ],
   "source": [
    "# Set up some directories\n",
    "prefix = \"/home/isaac/media4TB/PTA-EasternSnakes/\"\n",
    "analysis_dir = prefix + \"analysis/\"\n",
    "pops_dir = prefix + \"East_snakes_PTA_input/pops_files/\"\n",
    "vcf_dir = prefix + \"East_snakes_PTA_input/vcf_files/\"\n",
    "sfs_dir = prefix + \"East_snakes_PTA_input/sfs_files/\"\n",
    "\n",
    "# Populations files for each pop were made with the \"make_pops_SFS_stairway script\"\n",
    "all_pops = glob.glob(pops_dir + \"*\")\n",
    "all_pops = sorted([x.split(\"/\")[-1].rsplit(\".\", 1)[0] for x in all_pops])\n",
    "\n",
    "all_pops"
   ]
  },
  {
   "cell_type": "code",
   "execution_count": 3,
   "metadata": {},
   "outputs": [
    {
     "name": "stdout",
     "output_type": "stream",
     "text": [
      "['abacura_only_popeast', 'Acontortrix_p123_v2_25miss_popAcontortrix', 'Dpunctatus_p123_v3_25missEAST_popDpunctatus', 'Lgetula_p123_v2_25miss_popk2east', 'Mflagellum_p123_v3_25missEast_popeast', 'milks_denovo-92_popelap', 'milks_denovo-92_poptri', 'Pguttatus_p123_v2_25miss_popgut']\n",
      "['abacura_only_popwest', 'erytro_poperytro', 'Pguttatus_p123_v2_25miss_popemor', 'Sdekayi_p123_v2_25miss_popSdekayi']\n"
     ]
    }
   ],
   "source": [
    "expanding_pops = [\"abacura_only_popeast\",\n",
    "                    \"Acontortrix_p123_v2_25miss_popAcontortrix\",\n",
    "                    \"Dpunctatus_p123_v3_25missEAST_popDpunctatus\",\n",
    "                    \"Lgetula_p123_v2_25miss_popk2east\",\n",
    "#                    \"Lgetula_p123_v2_25miss_popk4get\",\n",
    "#                    \"Lgetula_p123_v2_25miss_popk4holbnig\",\n",
    "                    \"Mflagellum_p123_v3_25missEast_popeast\",\n",
    "                    \"milks_denovo-92_popelap\",\n",
    "                    \"milks_denovo-92_poptri\",\n",
    "                    \"Pguttatus_p123_v2_25miss_popgut\"]\n",
    "bottleneck_pops = [\"abacura_only_popwest\",\n",
    "                    \"erytro_poperytro\",\n",
    "                    \"Pguttatus_p123_v2_25miss_popemor\",\n",
    "                    \"Sdekayi_p123_v2_25miss_popSdekayi\"]\n",
    "print(expanding_pops)\n",
    "print(bottleneck_pops)"
   ]
  },
  {
   "cell_type": "code",
   "execution_count": 10,
   "metadata": {},
   "outputs": [
    {
     "name": "stdout",
     "output_type": "stream",
     "text": [
      "/home/isaac/media4TB/PTA-EasternSnakes/East_snakes_PTA_input/vcf_files/Mflagellum_p123_v3_25missEast_popeast.vcf\n",
      "/home/isaac/media4TB/PTA-EasternSnakes/East_snakes_PTA_input/pops_files/Mflagellum_p123_v3_25missEast_popeast.txt\n",
      "Processing 1 populations - odict_keys(['east'])\n",
      "\n",
      "    Running preview mode. We will print out the results for # of segregating sites\n",
      "    for multiple values of projecting down for each population. The dadi\n",
      "    manual recommends maximizing the # of seg sites for projections, but also\n",
      "    a balance must be struck between # of seg sites and sample size.\n",
      "\n",
      "    For each population you should choose the value of the projection that looks\n",
      "    best and then rerun easySFS with the `--proj` flag.\n",
      "    \n",
      "east\n",
      "(2, 19660)\t(3, 29401)\t(4, 36806)\t(5, 42673)\t(6, 48225)\t(7, 53082)\t(8, 57796)\t(9, 61895)\t(10, 66107)\t(11, 68877)\t(12, 72728)\t(13, 71088)\t(14, 74566)\t(15, 46449)\t(16, 48421)\t(17, 21200)\t(18, 21997)\t\n",
      "\n",
      "\n"
     ]
    }
   ],
   "source": [
    "## prototype the easySFS preview call for one population\n",
    "pop = \"Mflagellum_p123_v3_25missEast_popeast\" # define the population\n",
    "in_vcf = vcf_dir + pop + \".vcf\" # define the vcf file location\n",
    "pop_file = pops_dir + pop + \".txt\" # define the population file location\n",
    "print(in_vcf)\n",
    "print(pop_file)\n",
    "\n",
    "!$easySFS -i \"$in_vcf\" -p \"$pop_file\" -a --preview # run easySFS preview"
   ]
  },
  {
   "cell_type": "code",
   "execution_count": 12,
   "metadata": {},
   "outputs": [
    {
     "name": "stdout",
     "output_type": "stream",
     "text": [
      "Acontortrix_p123_v2_25miss_popAcontortrix\n",
      "Dpunctatus_p123_v3_25missEAST_popDpunctatus\n",
      "Lgetula_p123_v2_25miss_popk2east\n",
      "Lgetula_p123_v2_25miss_popk4get\n",
      "Lgetula_p123_v2_25miss_popk4holbnig\n",
      "Mflagellum_p123_v3_25missEast_popeast\n",
      "Pguttatus_p123_v2_25miss_popemor\n",
      "Pguttatus_p123_v2_25miss_popgut\n",
      "Sdekayi_p123_v2_25miss_popSdekayi\n",
      "abacura_only_popeast\n",
      "abacura_only_popwest\n",
      "erytro_poperytro\n",
      "milks_denovo-92_popelap\n",
      "milks_denovo-92_poptri\n"
     ]
    }
   ],
   "source": [
    "# Get easySFS preview results for all populations\n",
    "preview_dict = {}\n",
    "for pop in all_pops:\n",
    "    print(pop)\n",
    "    in_vcf = vcf_dir + pop + \".vcf\"\n",
    "    pop_file = pops_dir + pop + \".txt\"\n",
    "    preview_dict[pop] = !$easySFS -i \"$in_vcf\" -p \"$pop_file\" -a --preview"
   ]
  },
  {
   "cell_type": "code",
   "execution_count": 13,
   "metadata": {},
   "outputs": [
    {
     "name": "stdout",
     "output_type": "stream",
     "text": [
      "Acontortrix_p123_v2_25miss_popAcontortrix \n",
      " (2, 6528)\t(3, 9771)\t(4, 12355)\t(5, 14585)\t(6, 16629)\t(7, 18502)\t(8, 20313)\t(9, 21991)\t(10, 23667)\t(11, 25266)\t(12, 26853)\t(13, 28392)\t(14, 29918)\t(15, 31397)\t(16, 32875)\t(17, 34307)\t(18, 35747)\t(19, 37142)\t(20, 38551)\t(21, 39933)\t(22, 41317)\t(23, 42668)\t(24, 44030)\t(25, 45355)\t(26, 46697)\t(27, 47997)\t(28, 49322)\t(29, 50609)\t(30, 51917)\t(31, 53171)\t(32, 54465)\t(33, 55686)\t(34, 56967)\t(35, 58163)\t(36, 59431)\t(37, 60609)\t(38, 61865)\t(39, 62999)\t(40, 64244)\t(41, 65237)\t(42, 66470)\t(43, 67119)\t(44, 68337)\t(45, 68133)\t(46, 69331)\t(47, 66878)\t(48, 68026)\t(49, 51807)\t(50, 52660)\t(51, 38546)\t(52, 39158)\t(53, 27102)\t(54, 27514)\t(55, 17960)\t(56, 18226)\t(57, 10641)\t(58, 10793)\t(59, 5530)\t(60, 5607)\t(61, 2182)\t(62, 2210)\t(63, 563)\t(64, 570)\t \n",
      "\n",
      "Dpunctatus_p123_v3_25missEAST_popDpunctatus \n",
      " (2, 11142)\t(3, 16589)\t(4, 20969)\t(5, 24705)\t(6, 28135)\t(7, 31214)\t(8, 34151)\t(9, 36732)\t(10, 39343)\t(11, 41705)\t(12, 44080)\t(13, 46266)\t(14, 48459)\t(15, 50506)\t(16, 52554)\t(17, 54501)\t(18, 56429)\t(19, 58251)\t(20, 60078)\t(21, 61829)\t(22, 63569)\t(23, 65246)\t(24, 66911)\t(25, 68510)\t(26, 70108)\t(27, 71657)\t(28, 73196)\t(29, 74678)\t(30, 76164)\t(31, 77596)\t(32, 79034)\t(33, 80420)\t(34, 81814)\t(35, 83157)\t(36, 84511)\t(37, 85808)\t(38, 87125)\t(39, 88368)\t(40, 89651)\t(41, 90858)\t(42, 92110)\t(43, 93271)\t(44, 94492)\t(45, 95541)\t(46, 96734)\t(47, 97575)\t(48, 98742)\t(49, 99079)\t(50, 100218)\t(51, 99275)\t(52, 100381)\t(53, 95465)\t(54, 96511)\t(55, 74820)\t(56, 75616)\t(57, 57046)\t(58, 57636)\t(59, 42188)\t(60, 42613)\t(61, 30128)\t(62, 30424)\t(63, 20407)\t(64, 20602)\t(65, 12636)\t(66, 12754)\t(67, 7163)\t(68, 7229)\t(69, 3520)\t(70, 3552)\t(71, 1212)\t(72, 1222)\t(73, 173)\t(74, 174)\t \n",
      "\n",
      "Lgetula_p123_v2_25miss_popk2east \n",
      " (2, 12663)\t(3, 18915)\t(4, 23853)\t(5, 28018)\t(6, 31841)\t(7, 35221)\t(8, 38499)\t(9, 41421)\t(10, 44354)\t(11, 47022)\t(12, 49714)\t(13, 52218)\t(14, 54732)\t(15, 57085)\t(16, 59457)\t(17, 61702)\t(18, 63959)\t(19, 66129)\t(20, 68290)\t(21, 70383)\t(22, 72463)\t(23, 74475)\t(24, 76485)\t(25, 78431)\t(26, 80380)\t(27, 82260)\t(28, 84155)\t(29, 85992)\t(30, 87838)\t(31, 89621)\t(32, 91422)\t(33, 93169)\t(34, 94931)\t(35, 96621)\t(36, 98347)\t(37, 99993)\t(38, 101686)\t(39, 103281)\t(40, 104942)\t(41, 106439)\t(42, 108071)\t(43, 109399)\t(44, 111003)\t(45, 111867)\t(46, 113441)\t(47, 113257)\t(48, 114793)\t(49, 111950)\t(50, 113422)\t(51, 106400)\t(52, 107761)\t(53, 95017)\t(54, 96200)\t(55, 79550)\t(56, 80514)\t(57, 62707)\t(58, 63444)\t(59, 46802)\t(60, 47336)\t(61, 32772)\t(62, 33137)\t(63, 21658)\t(64, 21893)\t(65, 12844)\t(66, 12979)\t(67, 6251)\t(68, 6316)\t(69, 1848)\t(70, 1867)\t \n",
      "\n",
      "Lgetula_p123_v2_25miss_popk4get \n",
      " (2, 10499)\t(3, 15503)\t(4, 19418)\t(5, 21633)\t(6, 24433)\t(7, 21658)\t(8, 23576)\t(9, 12268)\t(10, 13118)\t \n",
      "\n",
      "Lgetula_p123_v2_25miss_popk4holbnig \n",
      " (2, 12216)\t(3, 18247)\t(4, 22999)\t(5, 26975)\t(6, 30640)\t(7, 33839)\t(8, 36976)\t(9, 39790)\t(10, 42600)\t(11, 45200)\t(12, 47784)\t(13, 50202)\t(14, 52617)\t(15, 54909)\t(16, 57191)\t(17, 59380)\t(18, 61553)\t(19, 63647)\t(20, 65731)\t(21, 67750)\t(22, 69757)\t(23, 71702)\t(24, 73644)\t(25, 75499)\t(26, 77383)\t(27, 79190)\t(28, 81022)\t(29, 82774)\t(30, 84561)\t(31, 86240)\t(32, 87986)\t(33, 89555)\t(34, 91263)\t(35, 92582)\t(36, 94253)\t(37, 94884)\t(38, 96514)\t(39, 95630)\t(40, 97202)\t(41, 93314)\t(42, 94790)\t(43, 85985)\t(44, 87300)\t(45, 73432)\t(46, 74518)\t(47, 57875)\t(48, 58703)\t(49, 41622)\t(50, 42198)\t(51, 27586)\t(52, 27956)\t(53, 16244)\t(54, 16455)\t(55, 7978)\t(56, 8078)\t(57, 2478)\t(58, 2508)\t \n",
      "\n",
      "Mflagellum_p123_v3_25missEast_popeast \n",
      " (2, 19660)\t(3, 29401)\t(4, 36806)\t(5, 42673)\t(6, 48225)\t(7, 53082)\t(8, 57796)\t(9, 61895)\t(10, 66107)\t(11, 68877)\t(12, 72728)\t(13, 71088)\t(14, 74566)\t(15, 46449)\t(16, 48421)\t(17, 21200)\t(18, 21997)\t \n",
      "\n",
      "Pguttatus_p123_v2_25miss_popemor \n",
      " (2, 31209)\t(3, 46645)\t(4, 57759)\t(5, 66553)\t(6, 74101)\t(7, 80601)\t(8, 86557)\t(9, 91887)\t(10, 96907)\t(11, 101499)\t(12, 105879)\t(13, 109876)\t(14, 113775)\t(15, 117324)\t(16, 120835)\t(17, 123982)\t(18, 127167)\t(19, 129964)\t(20, 132862)\t(21, 135178)\t(22, 137817)\t(23, 138620)\t(24, 141007)\t(25, 137271)\t(26, 139374)\t(27, 126505)\t(28, 128251)\t(29, 104404)\t(30, 105712)\t(31, 76317)\t(32, 77189)\t(33, 48200)\t(34, 48706)\t(35, 25250)\t(36, 25495)\t(37, 10120)\t(38, 10208)\t(39, 2213)\t(40, 2231)\t \n",
      "\n",
      "Pguttatus_p123_v2_25miss_popgut \n",
      " (2, 21336)\t(3, 31924)\t(4, 39352)\t(5, 45104)\t(6, 49948)\t(7, 54061)\t(8, 57768)\t(9, 61024)\t(10, 64081)\t(11, 66807)\t(12, 69442)\t(13, 71810)\t(14, 74148)\t(15, 76196)\t(16, 78313)\t(17, 80017)\t(18, 81961)\t(19, 83032)\t(20, 84832)\t(21, 84412)\t(22, 86075)\t(23, 82286)\t(24, 83788)\t(25, 74163)\t(26, 75436)\t(27, 57726)\t(28, 58662)\t(29, 33945)\t(30, 34469)\t(31, 11124)\t(32, 11284)\t \n",
      "\n",
      "Sdekayi_p123_v2_25miss_popSdekayi \n",
      " (2, 6236)\t(3, 9271)\t(4, 11792)\t(5, 13981)\t(6, 16032)\t(7, 17918)\t(8, 19727)\t(9, 21391)\t(10, 23038)\t(11, 24592)\t(12, 26117)\t(13, 27568)\t(14, 28996)\t(15, 30352)\t(16, 31698)\t(17, 32996)\t(18, 34271)\t(19, 35504)\t(20, 36717)\t(21, 37885)\t(22, 39042)\t(23, 40161)\t(24, 41266)\t(25, 42332)\t(26, 43389)\t(27, 44402)\t(28, 45415)\t(29, 46377)\t(30, 47348)\t(31, 48274)\t(32, 49205)\t(33, 50072)\t(34, 50964)\t(35, 51740)\t(36, 52596)\t(37, 53113)\t(38, 53932)\t(39, 53786)\t(40, 54564)\t(41, 51659)\t(42, 52370)\t(43, 33890)\t(44, 34332)\t(45, 20235)\t(46, 20486)\t(47, 11116)\t(48, 11248)\t(49, 5204)\t(50, 5262)\t(51, 1811)\t(52, 1830)\t(53, 477)\t(54, 482)\t(55, 63)\t(56, 64)\t \n",
      "\n",
      "abacura_only_popeast \n",
      " (2, 1395)\t(3, 2079)\t(4, 2562)\t(5, 2933)\t(6, 3248)\t(7, 3518)\t(8, 3756)\t(9, 3970)\t(10, 4164)\t(11, 4341)\t(12, 4506)\t(13, 4657)\t(14, 4800)\t(15, 4932)\t(16, 5059)\t(17, 5178)\t(18, 5293)\t(19, 5401)\t(20, 5506)\t(21, 5606)\t(22, 5702)\t(23, 5795)\t(24, 5884)\t(25, 5971)\t(26, 6055)\t(27, 6132)\t(28, 6211)\t(29, 6286)\t(30, 6360)\t(31, 6426)\t(32, 6496)\t(33, 6561)\t(34, 6628)\t(35, 6685)\t(36, 6749)\t(37, 6771)\t(38, 6831)\t(39, 6782)\t(40, 6839)\t(41, 6688)\t(42, 6742)\t(43, 6385)\t(44, 6435)\t(45, 5750)\t(46, 5795)\t(47, 4905)\t(48, 4942)\t(49, 3920)\t(50, 3948)\t(51, 2889)\t(52, 2909)\t(53, 1976)\t(54, 1990)\t(55, 1276)\t(56, 1285)\t(57, 678)\t(58, 682)\t(59, 256)\t(60, 258)\t(61, 83)\t(62, 84)\t \n",
      "\n",
      "abacura_only_popwest \n",
      " (2, 2024)\t(3, 3028)\t(4, 3706)\t(5, 4215)\t(6, 4628)\t(7, 4962)\t(8, 5259)\t(9, 5504)\t(10, 5735)\t(11, 5907)\t(12, 6096)\t(13, 6186)\t(14, 6344)\t(15, 6276)\t(16, 6409)\t(17, 6020)\t(18, 6130)\t(19, 5183)\t(20, 5269)\t(21, 3649)\t(22, 3706)\t(23, 1875)\t(24, 1903)\t(25, 550)\t(26, 558)\t \n",
      "\n",
      "erytro_poperytro \n",
      " (2, 641)\t(3, 959)\t(4, 1180)\t(5, 1346)\t(6, 1490)\t(7, 1608)\t(8, 1716)\t(9, 1812)\t(10, 1900)\t(11, 1980)\t(12, 2054)\t(13, 2121)\t(14, 2186)\t(15, 2238)\t(16, 2295)\t(17, 2340)\t(18, 2390)\t(19, 2419)\t(20, 2464)\t(21, 2481)\t(22, 2522)\t(23, 2458)\t(24, 2494)\t(25, 2232)\t(26, 2263)\t(27, 1295)\t(28, 1311)\t(29, 609)\t(30, 616)\t(31, 250)\t(32, 253)\t(33, 62)\t(34, 63)\t \n",
      "\n",
      "milks_denovo-92_popelap \n",
      " (2, 757)\t(3, 1133)\t(4, 1405)\t(5, 1616)\t(6, 1805)\t(7, 1965)\t(8, 2114)\t(9, 2236)\t(10, 2360)\t(11, 2471)\t(12, 2578)\t(13, 2676)\t(14, 2772)\t(15, 2858)\t(16, 2944)\t(17, 3021)\t(18, 3100)\t(19, 3155)\t(20, 3228)\t(21, 3274)\t(22, 3341)\t(23, 3383)\t(24, 3446)\t(25, 3470)\t(26, 3528)\t(27, 3543)\t(28, 3598)\t(29, 3589)\t(30, 3641)\t(31, 3610)\t(32, 3659)\t(33, 3606)\t(34, 3651)\t(35, 3542)\t(36, 3584)\t(37, 3423)\t(38, 3461)\t(39, 3242)\t(40, 3277)\t(41, 3022)\t(42, 3053)\t(43, 2768)\t(44, 2796)\t(45, 2458)\t(46, 2482)\t(47, 2113)\t(48, 2133)\t(49, 1779)\t(50, 1795)\t(51, 1442)\t(52, 1455)\t(53, 1151)\t(54, 1161)\t(55, 902)\t(56, 909)\t(57, 673)\t(58, 679)\t(59, 493)\t(60, 497)\t(61, 359)\t(62, 362)\t(63, 277)\t(64, 280)\t(65, 207)\t(66, 209)\t(67, 155)\t(68, 156)\t(69, 112)\t(70, 113)\t(71, 79)\t(72, 80)\t(73, 51)\t(74, 52)\t(75, 31)\t(76, 31)\t(77, 23)\t(78, 24)\t(79, 18)\t(80, 18)\t(81, 8)\t(82, 8)\t \n",
      "\n",
      "milks_denovo-92_poptri \n",
      " (2, 863)\t(3, 1290)\t(4, 1600)\t(5, 1849)\t(6, 2062)\t(7, 2247)\t(8, 2415)\t(9, 2564)\t(10, 2704)\t(11, 2831)\t(12, 2952)\t(13, 3062)\t(14, 3170)\t(15, 3266)\t(16, 3363)\t(17, 3449)\t(18, 3537)\t(19, 3614)\t(20, 3695)\t(21, 3765)\t(22, 3840)\t(23, 3900)\t(24, 3970)\t(25, 4021)\t(26, 4087)\t(27, 4130)\t(28, 4191)\t(29, 4226)\t(30, 4284)\t(31, 4302)\t(32, 4357)\t(33, 4353)\t(34, 4405)\t(35, 4394)\t(36, 4443)\t(37, 4373)\t(38, 4420)\t(39, 4360)\t(40, 4404)\t(41, 4305)\t(42, 4346)\t(43, 4129)\t(44, 4167)\t(45, 3973)\t(46, 4008)\t(47, 3735)\t(48, 3767)\t(49, 3449)\t(50, 3478)\t(51, 3105)\t(52, 3130)\t(53, 2735)\t(54, 2756)\t(55, 2401)\t(56, 2419)\t(57, 2105)\t(58, 2121)\t(59, 1802)\t(60, 1816)\t(61, 1530)\t(62, 1541)\t(63, 1288)\t(64, 1298)\t(65, 1056)\t(66, 1063)\t(67, 857)\t(68, 863)\t(69, 728)\t(70, 733)\t(71, 603)\t(72, 607)\t(73, 501)\t(74, 505)\t(75, 410)\t(76, 413)\t(77, 342)\t(78, 344)\t(79, 297)\t(80, 298)\t(81, 258)\t(82, 259)\t(83, 226)\t(84, 227)\t(85, 188)\t(86, 189)\t(87, 165)\t(88, 166)\t(89, 141)\t(90, 141)\t(91, 117)\t(92, 118)\t(93, 99)\t(94, 100)\t(95, 85)\t(96, 86)\t(97, 76)\t(98, 77)\t(99, 63)\t(100, 63)\t(101, 51)\t(102, 51)\t(103, 44)\t(104, 44)\t(105, 40)\t(106, 40)\t(107, 32)\t(108, 32)\t(109, 27)\t(110, 27)\t(111, 24)\t(112, 24)\t(113, 14)\t(114, 14)\t(115, 9)\t(116, 9)\t(117, 2)\t(118, 2)\t \n",
      "\n"
     ]
    }
   ],
   "source": [
    "for k, v in preview_dict.items():\n",
    "    print(k, \"\\n\", v[-3], \"\\n\")"
   ]
  },
  {
   "cell_type": "code",
   "execution_count": 4,
   "metadata": {},
   "outputs": [],
   "source": [
    "proj_dict = {}\n",
    "## Expanding\n",
    "proj_dict[\"abacura_only_popeast\"] = 44\n",
    "proj_dict[\"Acontortrix_p123_v2_25miss_popAcontortrix\"] = 46\n",
    "proj_dict[\"Dpunctatus_p123_v3_25missEAST_popDpunctatus\"] = 52\n",
    "proj_dict[\"Mflagellum_p123_v3_25missEast_popeast\"] = 14\n",
    "proj_dict[\"milks_denovo-92_popelap\"] = 42\n",
    "proj_dict[\"milks_denovo-92_poptri\"] = 50\n",
    "proj_dict[\"Pguttatus_p123_v2_25miss_popgut\"] = 24\n",
    "\n",
    "proj_dict[\"Lgetula_p123_v2_25miss_popk2east\"] = 50\n",
    "proj_dict[\"Lgetula_p123_v2_25miss_popk4get\"] = 8\n",
    "proj_dict[\"Lgetula_p123_v2_25miss_popk4holbnig\"] = 44\n",
    "\n",
    "## Contracting\n",
    "proj_dict[\"abacura_only_popwest\"] = 20\n",
    "proj_dict[\"erytro_poperytro\"] = 23\n",
    "proj_dict[\"Pguttatus_p123_v2_25miss_popemor\"] = 30\n",
    "proj_dict[\"Sdekayi_p123_v2_25miss_popSdekayi\"] = 40\n",
    "\n"
   ]
  },
  {
   "cell_type": "code",
   "execution_count": null,
   "metadata": {},
   "outputs": [],
   "source": []
  },
  {
   "cell_type": "code",
   "execution_count": 15,
   "metadata": {},
   "outputs": [
    {
     "name": "stdout",
     "output_type": "stream",
     "text": [
      "Acontortrix_p123_v2_25miss_popAcontortrix\n",
      "Processing 1 populations - odict_keys(['Acontortrix'])\n",
      "Doing 1D sfs - Acontortrix\n",
      "Doing multiSFS for all pops\n",
      "Dpunctatus_p123_v3_25missEAST_popDpunctatus\n",
      "Processing 1 populations - odict_keys(['Dpunctatus'])\n",
      "Doing 1D sfs - Dpunctatus\n",
      "Doing multiSFS for all pops\n",
      "Lgetula_p123_v2_25miss_popk2east\n",
      "Processing 1 populations - odict_keys(['k2east'])\n",
      "Doing 1D sfs - k2east\n",
      "Doing multiSFS for all pops\n",
      "Lgetula_p123_v2_25miss_popk4get\n",
      "Processing 1 populations - odict_keys(['k4get'])\n",
      "Doing 1D sfs - k4get\n",
      "Doing multiSFS for all pops\n",
      "Lgetula_p123_v2_25miss_popk4holbnig\n",
      "Processing 1 populations - odict_keys(['k4holbnig'])\n",
      "Doing 1D sfs - k4holbnig\n",
      "Doing multiSFS for all pops\n",
      "Mflagellum_p123_v3_25missEast_popeast\n",
      "Processing 1 populations - odict_keys(['east'])\n",
      "Doing 1D sfs - east\n",
      "Doing multiSFS for all pops\n",
      "Pguttatus_p123_v2_25miss_popemor\n",
      "Processing 1 populations - odict_keys(['emor'])\n",
      "Doing 1D sfs - emor\n",
      "Doing multiSFS for all pops\n",
      "Pguttatus_p123_v2_25miss_popgut\n",
      "Processing 1 populations - odict_keys(['gut'])\n",
      "Doing 1D sfs - gut\n",
      "Doing multiSFS for all pops\n",
      "Sdekayi_p123_v2_25miss_popSdekayi\n",
      "Processing 1 populations - odict_keys(['Sdekayi'])\n",
      "Doing 1D sfs - Sdekayi\n",
      "Doing multiSFS for all pops\n",
      "abacura_only_popeast\n",
      "Processing 1 populations - odict_keys(['east'])\n",
      "Doing 1D sfs - east\n",
      "Doing multiSFS for all pops\n",
      "abacura_only_popwest\n",
      "Processing 1 populations - odict_keys(['west'])\n",
      "Doing 1D sfs - west\n",
      "Doing multiSFS for all pops\n",
      "erytro_poperytro\n",
      "Processing 1 populations - odict_keys(['erytro'])\n",
      "Doing 1D sfs - erytro\n",
      "Doing multiSFS for all pops\n",
      "milks_denovo-92_popelap\n",
      "Processing 1 populations - odict_keys(['elap'])\n",
      "Doing 1D sfs - elap\n",
      "Doing multiSFS for all pops\n",
      "milks_denovo-92_poptri\n",
      "Processing 1 populations - odict_keys(['tri'])\n",
      "Doing 1D sfs - tri\n",
      "Doing multiSFS for all pops\n"
     ]
    }
   ],
   "source": [
    "proj = 8\n",
    "\n",
    "# Get easySFS proj results for all populations\n",
    "# <10 minutes\n",
    "for pop in all_pops:\n",
    "    print(pop)\n",
    "    in_vcf = vcf_dir + pop + \".vcf\"\n",
    "    pop_file = pops_dir + pop + \".txt\"\n",
    "    pop_sfs_dir = sfs_dir + pop\n",
    "    if not os.path.exists(pop_sfs_dir):\n",
    "        os.makedirs(pop_sfs_dir)\n",
    "    !$easySFS -i $in_vcf -p $pop_file -a --proj $proj -o $pop_sfs_dir -f"
   ]
  },
  {
   "cell_type": "code",
   "execution_count": 4,
   "metadata": {},
   "outputs": [
    {
     "data": {
      "text/plain": [
       "8"
      ]
     },
     "execution_count": 4,
     "metadata": {},
     "output_type": "execute_result"
    }
   ],
   "source": [
    "sfs_dict = {}\n",
    "for pop in all_pops:\n",
    "    pop_sfs_dir = sfs_dir + pop\n",
    "    # Load from the dadi formatted sfs file generated by easySFS\n",
    "    sfs_file = glob.glob(pop_sfs_dir + \"/dadi/*.sfs\")[-1]\n",
    "    #sfs_file = pop_sfs_dir + \"/dadi/{}.sfs\".format(pop)\n",
    "    sfs_dict[pop] = momi.data.convert.sfs_from_dadi(sfs_file)\n",
    "exp_sfs = [sfs_dict[x] for x in expanding_pops]\n",
    "bot_sfs = [sfs_dict[x] for x in bottleneck_pops]\n",
    "len(exp_sfs)"
   ]
  },
  {
   "cell_type": "markdown",
   "metadata": {},
   "source": [
    "## Generate simulations"
   ]
  },
  {
   "cell_type": "code",
   "execution_count": 13,
   "metadata": {},
   "outputs": [
    {
     "name": "stdout",
     "output_type": "stream",
     "text": [
      "------- PTA params file (v.0.0.11)----------------------------------------------\n",
      "expanding-sorted-props ## [0] [simulation_name]: The name of this simulation scenario\n",
      "/media/4TB/isaac/PTA-EasternSnakes/analysis/8pops_8samps_expanding_sims ## [1] [project_dir]: Where to save files\n",
      "8                    ## [2] [npops]: Number of populations undergoing co-demographic processes\n",
      "8                    ## [3] [nsamps]: Numbers of samples for each populations\n",
      "200000-5000000       ## [4] [N_e]: Effective population size of the contemporary population\n",
      "10000-1000000        ## [5] [tau]: Time of demographic change\n",
      "0.01-0.1             ## [6] [epsilon]: Magnitude of demographic change\n",
      "0                    ## [7] [zeta]: Proportion of coexpanding taxa. Default will sample U~(0, 1)\n",
      "150                  ## [8] [length]: Length in bp of each independent genomic region to simulate\n",
      "500,500,500,500,500,500,500,500 ## [9] [num_replicates]: Number of genomic regions to simulate\n",
      "1                    ## [10] [generation_time]: Generation time in years\n",
      "0.0                  ## [11] [recoms_per_gen]: Recombination rate within independent regions scaled per base per generation\n",
      "6.6e-09              ## [12] [muts_per_gen]: Mutation rate scaled per base per generation\n",
      "\n",
      "    Generating 40000 simulation(s).\n",
      "  [####################] 100%  Finished 40000 simulations in   1:33:43\n",
      " "
     ]
    }
   ],
   "source": [
    "# sorted\n",
    "model = PTA.DemographicModel(\"expanding-sorted-props\")\n",
    "model.set_param(\"project_dir\", \"./analysis/8pops_8samps_expanding_sims\")\n",
    "model.set_param(\"npops\", 8)\n",
    "model.set_param(\"nsamps\", 8)\n",
    "model.set_param(\"N_e\", \"2e5-5e6\")\n",
    "model.set_param(\"tau\", \"1e4-1e6\")\n",
    "model.set_param(\"epsilon\", \"0.01-0.1\")\n",
    "model.set_param(\"length\", \"150\")\n",
    "#computationally impractical to simulate 2e4 loci for 20 pops, but this is how you'd do it.\n",
    "#model.set_param(\"num_replicates\", [nloci_dict[x] for x in expanding_pops])\n",
    "model.set_param(\"num_replicates\", 500)\n",
    "model.set_param(\"recoms_per_gen\", 0)\n",
    "model.set_param(\"muts_per_gen\", 6.6e-9)\n",
    "print(model.get_params())\n",
    "\n",
    "model._hackersonly[\"sorted_sfs\"] = True\n",
    "model._hackersonly[\"proportional_msfs\"] = True\n",
    "model.simulate(nsims=40000, quiet=False, verbose=False, ipyclient=ipyclient)"
   ]
  },
  {
   "cell_type": "code",
   "execution_count": 7,
   "metadata": {},
   "outputs": [
    {
     "name": "stdout",
     "output_type": "stream",
     "text": [
      "------- PTA params file (v.0.0.11)----------------------------------------------\n",
      "expanding-unsorted-props ## [0] [simulation_name]: The name of this simulation scenario\n",
      "/media/4TB/isaac/PTA-EasternSnakes/analysis/8pops_8samps_expanding_sims ## [1] [project_dir]: Where to save files\n",
      "8                    ## [2] [npops]: Number of populations undergoing co-demographic processes\n",
      "8                    ## [3] [nsamps]: Numbers of samples for each populations\n",
      "200000-5000000       ## [4] [N_e]: Effective population size of the contemporary population\n",
      "10000-1000000        ## [5] [tau]: Time of demographic change\n",
      "0.01-0.1             ## [6] [epsilon]: Magnitude of demographic change\n",
      "0                    ## [7] [zeta]: Proportion of coexpanding taxa. Default will sample U~(0, 1)\n",
      "150                  ## [8] [length]: Length in bp of each independent genomic region to simulate\n",
      "500,500,500,500,500,500,500,500 ## [9] [num_replicates]: Number of genomic regions to simulate\n",
      "0.0                  ## [10] [recoms_per_gen]: Recombination rate within independent regions scaled per base per generation\n",
      "6.6e-09              ## [11] [muts_per_gen]: Mutation rate scaled per base per generation\n",
      "\n",
      "    Generating 40000 simulation(s).\n",
      "  [####################] 100%  Finished 40000 simulations in   3:05:43\n",
      " "
     ]
    }
   ],
   "source": [
    "# Unsorted\n",
    "model = PTA.DemographicModel(\"expanding-unsorted-props\")\n",
    "model.set_param(\"project_dir\", \"./analysis/8pops_8samps_expanding_sims\")\n",
    "model.set_param(\"npops\", 8)\n",
    "model.set_param(\"nsamps\", 8)\n",
    "model.set_param(\"N_e\", \"2e5-5e6\")\n",
    "model.set_param(\"tau\", \"1e4-1e6\")\n",
    "model.set_param(\"epsilon\", \"0.01-0.1\")\n",
    "model.set_param(\"length\", \"150\")\n",
    "#computationally impractical to simulate 2e4 loci for 20 pops, but this is how you'd do it.\n",
    "#model.set_param(\"num_replicates\", [nloci_dict[x] for x in expanding_pops])\n",
    "model.set_param(\"num_replicates\", 500)\n",
    "model.set_param(\"recoms_per_gen\", 0)\n",
    "model.set_param(\"muts_per_gen\", 6.6e-9)\n",
    "print(model.get_params())\n",
    "\n",
    "model._hackersonly[\"sorted_sfs\"] = False\n",
    "model._hackersonly[\"proportional_msfs\"] = True\n",
    "model.simulate(nsims=40000, quiet=False, verbose=False, ipyclient=ipyclient)"
   ]
  },
  {
   "cell_type": "markdown",
   "metadata": {},
   "source": [
    "## Cross-validation"
   ]
  },
  {
   "cell_type": "code",
   "execution_count": 12,
   "metadata": {},
   "outputs": [
    {
     "name": "stdout",
     "output_type": "stream",
     "text": [
      "80000\n",
      "Removed invariant targets. Retained: ['zeta', 'zeta_e', 'psi', 't_s', 'omega', 'taus_mean', 'taus_std', 'taus_skewness', 'taus_kurtosis', 'taus_median', 'taus_iqr', 'epsilons_mean', 'epsilons_std', 'epsilons_skewness', 'epsilons_kurtosis', 'epsilons_median', 'epsilons_iqr', 'Ne_s_mean', 'Ne_s_std', 'Ne_s_skewness', 'Ne_s_kurtosis', 'Ne_s_median', 'Ne_s_iqr']\n",
      "Predict() started: 2021-11-14 14:28:58.348611\n",
      "Predict() finished: 2021-11-14 15:21:59.232012\n",
      "Calculating prediction interval(s)\n",
      "\tzeta_e\n",
      "\tt_s\n",
      "\tomega\n",
      "                  MAE        RMSE    vscore        R2\n",
      "zeta_e       0.808126    0.003652  0.806880  0.806879\n",
      "t_s     150814.331550  700.078103  0.521807  0.521801\n",
      "omega    47945.451767  234.919317  0.462959  0.462959\n",
      "CPU times: user 2h 24min 50s, sys: 45.6 s, total: 2h 25min 36s\n",
      "Wall time: 4h 54min 47s\n"
     ]
    }
   ],
   "source": [
    "%%time\n",
    "# sorted\n",
    "sorted_sim_df = pd.read_csv(\"./analysis/8pops_8samps_expanding_sims/expanding-sorted-props-SIMOUT.csv\", sep=\" \")\n",
    "synthetic_community = pd.DataFrame(sorted_sim_df.loc[0]).T.drop(PTA.inference.default_targets, axis=1)\n",
    "\n",
    "gb_params = {'n_estimators': 1000,\n",
    "             'min_samples_split': 5,\n",
    "             'min_samples_leaf': 4,\n",
    "             'max_features': 'auto',\n",
    "             'max_depth': 10,\n",
    "             'learning_rate': 0.012589254117941661}\n",
    "\n",
    "print(len(sorted_sim_df))\n",
    "gb_sorted = PTA.inference.Regressor(empirical_df=synthetic_community,\\\n",
    "                                sims=sorted_sim_df,\\\n",
    "                                algorithm=\"gb\",\\\n",
    "                                verbose=True)\n",
    "gb_sorted.set_params(gb_params)\n",
    "gb_sorted.set_targets([\"zeta_e\", \"t_s\", \"omega\"])\n",
    "gb_sorted.predict(select_features=False,\\\n",
    "            param_search=False,\\\n",
    "            quick=False,\\\n",
    "            verbose=True)\n",
    "sorted_cv_preds1 = gb_sorted.cross_val_predict(verbose=True)\n",
    "sorted_cv_scores1 = gb_sorted.cross_val_score(verbose=True)\n",
    "ax = gb_sorted.plot_cv_predictions(figsize=(20,10), figdims=(4,5))"
   ]
  },
  {
   "cell_type": "code",
   "execution_count": 16,
   "metadata": {},
   "outputs": [
    {
     "data": {
      "image/png": "[encoded data removed]",
      "text/plain": [
       "<Figure size 1440x720 with 20 Axes>"
      ]
     },
     "metadata": {
      "needs_background": "light"
     },
     "output_type": "display_data"
    }
   ],
   "source": [
    "ax = gb_sorted.plot_cv_predictions(figsize=(20,10), figdims=(4,5))"
   ]
  },
  {
   "cell_type": "code",
   "execution_count": 14,
   "metadata": {},
   "outputs": [
    {
     "name": "stdout",
     "output_type": "stream",
     "text": [
      "Predict() started: 2021-11-14 21:02:36.399309\n",
      "Predict() finished: 2021-11-15 01:00:39.039563\n",
      "              precision    recall  f1-score   support\n",
      "\n",
      "           0       0.22      0.03      0.05      7637\n",
      "           1       0.43      0.57      0.49     15027\n",
      "           2       0.35      0.35      0.35     15016\n",
      "           3       0.42      0.47      0.44     14962\n",
      "           4       0.43      0.43      0.43     14901\n",
      "           5       0.38      0.36      0.37     14878\n",
      "           6       0.36      0.32      0.34     14981\n",
      "           7       0.41      0.51      0.45     15068\n",
      "           8       0.46      0.43      0.44      7530\n",
      "\n",
      "    accuracy                           0.40    120000\n",
      "   macro avg       0.39      0.39      0.38    120000\n",
      "weighted avg       0.39      0.40      0.39    120000\n",
      "\n"
     ]
    },
    {
     "data": {
      "text/plain": [
       "<AxesSubplot:xlabel='Predicted Ψ', ylabel='True Ψ'>"
      ]
     },
     "execution_count": 14,
     "metadata": {},
     "output_type": "execute_result"
    }
   ],
   "source": [
    "sorted_sim_df = pd.read_csv(\"./analysis/8pops_8samps_expanding_sims/expanding-sorted-props-SIMOUT.csv\", sep=\" \")\n",
    "gb_sorted_cl = PTA.inference.Classifier(empirical_df=synthetic_community,\n",
    "                                       sims=sorted_sim_df,\n",
    "                                       algorithm=\"gb\")\n",
    "gb_sorted_cl.set_params(gb_params)\n",
    "gb_sorted_cl.set_targets([\"zeta_e\"])\n",
    "gb_sorted_cl.predict(select_features=False,\\\n",
    "            param_search=False,\\\n",
    "            quick=True,\\\n",
    "            verbose=True)\n",
    "cv_preds = gb_sorted_cl.cross_val_predict(cv=3,\n",
    "                    quick=True,\n",
    "                    verbose=True)\n",
    "gb_sorted_cl.plot_confusion_matrix()"
   ]
  },
  {
   "cell_type": "code",
   "execution_count": 17,
   "metadata": {},
   "outputs": [
    {
     "data": {
      "image/png": "[encoded data removed]",
      "text/plain": [
       "<Figure size 576x576 with 1 Axes>"
      ]
     },
     "metadata": {
      "needs_background": "light"
     },
     "output_type": "display_data"
    }
   ],
   "source": [
    "ax = gb_sorted_cl.plot_confusion_matrix()"
   ]
  },
  {
   "cell_type": "markdown",
   "metadata": {},
   "source": [
    "## Predict zeta from empirical data"
   ]
  },
  {
   "cell_type": "code",
   "execution_count": null,
   "metadata": {},
   "outputs": [
    {
     "data": {
      "text/html": [
       "<div>\n",
       "<style scoped>\n",
       "    .dataframe tbody tr th:only-of-type {\n",
       "        vertical-align: middle;\n",
       "    }\n",
       "\n",
       "    .dataframe tbody tr th {\n",
       "        vertical-align: top;\n",
       "    }\n",
       "\n",
       "    .dataframe thead th {\n",
       "        text-align: right;\n",
       "    }\n",
       "</style>\n",
       "<table border=\"1\" class=\"dataframe\">\n",
       "  <thead>\n",
       "    <tr style=\"text-align: right;\">\n",
       "      <th></th>\n",
       "      <th>pop0</th>\n",
       "      <th>pop1</th>\n",
       "      <th>pop2</th>\n",
       "      <th>pop3</th>\n",
       "      <th>pop4</th>\n",
       "      <th>pop5</th>\n",
       "      <th>pop6</th>\n",
       "      <th>pop7</th>\n",
       "    </tr>\n",
       "  </thead>\n",
       "  <tbody>\n",
       "    <tr>\n",
       "      <th>[[7_1]]</th>\n",
       "      <td>0.713179</td>\n",
       "      <td>0.688062</td>\n",
       "      <td>0.681136</td>\n",
       "      <td>0.652572</td>\n",
       "      <td>0.562070</td>\n",
       "      <td>0.554598</td>\n",
       "      <td>0.513267</td>\n",
       "      <td>0.508127</td>\n",
       "    </tr>\n",
       "    <tr>\n",
       "      <th>[[6_2]]</th>\n",
       "      <td>0.239843</td>\n",
       "      <td>0.230946</td>\n",
       "      <td>0.226319</td>\n",
       "      <td>0.223852</td>\n",
       "      <td>0.175918</td>\n",
       "      <td>0.172104</td>\n",
       "      <td>0.168348</td>\n",
       "      <td>0.134599</td>\n",
       "    </tr>\n",
       "    <tr>\n",
       "      <th>[[5_3]]</th>\n",
       "      <td>0.174959</td>\n",
       "      <td>0.173487</td>\n",
       "      <td>0.152894</td>\n",
       "      <td>0.147902</td>\n",
       "      <td>0.119381</td>\n",
       "      <td>0.104578</td>\n",
       "      <td>0.103255</td>\n",
       "      <td>0.095835</td>\n",
       "    </tr>\n",
       "    <tr>\n",
       "      <th>[[4_4]]</th>\n",
       "      <td>0.080827</td>\n",
       "      <td>0.078543</td>\n",
       "      <td>0.068655</td>\n",
       "      <td>0.063709</td>\n",
       "      <td>0.055943</td>\n",
       "      <td>0.048967</td>\n",
       "      <td>0.045937</td>\n",
       "      <td>0.040184</td>\n",
       "    </tr>\n",
       "  </tbody>\n",
       "</table>\n",
       "</div>"
      ],
      "text/plain": [
       "             pop0      pop1      pop2      pop3      pop4      pop5      pop6  \\\n",
       "[[7_1]]  0.713179  0.688062  0.681136  0.652572  0.562070  0.554598  0.513267   \n",
       "[[6_2]]  0.239843  0.230946  0.226319  0.223852  0.175918  0.172104  0.168348   \n",
       "[[5_3]]  0.174959  0.173487  0.152894  0.147902  0.119381  0.104578  0.103255   \n",
       "[[4_4]]  0.080827  0.078543  0.068655  0.063709  0.055943  0.048967  0.045937   \n",
       "\n",
       "             pop7  \n",
       "[[7_1]]  0.508127  \n",
       "[[6_2]]  0.134599  \n",
       "[[5_3]]  0.095835  \n",
       "[[4_4]]  0.040184  "
      ]
     },
     "metadata": {},
     "output_type": "display_data"
    },
    {
     "data": {
      "text/html": [
       "<div>\n",
       "<style scoped>\n",
       "    .dataframe tbody tr th:only-of-type {\n",
       "        vertical-align: middle;\n",
       "    }\n",
       "\n",
       "    .dataframe tbody tr th {\n",
       "        vertical-align: top;\n",
       "    }\n",
       "\n",
       "    .dataframe thead th {\n",
       "        text-align: right;\n",
       "    }\n",
       "</style>\n",
       "<table border=\"1\" class=\"dataframe\">\n",
       "  <thead>\n",
       "    <tr style=\"text-align: right;\">\n",
       "      <th></th>\n",
       "      <th>pop0-[[7_1]]</th>\n",
       "      <th>pop0-[[6_2]]</th>\n",
       "      <th>pop0-[[5_3]]</th>\n",
       "      <th>pop0-[[4_4]]</th>\n",
       "      <th>pop1-[[7_1]]</th>\n",
       "      <th>pop1-[[6_2]]</th>\n",
       "      <th>pop1-[[5_3]]</th>\n",
       "      <th>pop1-[[4_4]]</th>\n",
       "      <th>pop2-[[7_1]]</th>\n",
       "      <th>pop2-[[6_2]]</th>\n",
       "      <th>pop2-[[5_3]]</th>\n",
       "      <th>pop2-[[4_4]]</th>\n",
       "      <th>pop3-[[7_1]]</th>\n",
       "      <th>pop3-[[6_2]]</th>\n",
       "      <th>pop3-[[5_3]]</th>\n",
       "      <th>pop3-[[4_4]]</th>\n",
       "      <th>pop4-[[7_1]]</th>\n",
       "      <th>pop4-[[6_2]]</th>\n",
       "      <th>pop4-[[5_3]]</th>\n",
       "      <th>pop4-[[4_4]]</th>\n",
       "      <th>pop5-[[7_1]]</th>\n",
       "      <th>pop5-[[6_2]]</th>\n",
       "      <th>pop5-[[5_3]]</th>\n",
       "      <th>pop5-[[4_4]]</th>\n",
       "      <th>pop6-[[7_1]]</th>\n",
       "      <th>pop6-[[6_2]]</th>\n",
       "      <th>pop6-[[5_3]]</th>\n",
       "      <th>pop6-[[4_4]]</th>\n",
       "      <th>pop7-[[7_1]]</th>\n",
       "      <th>pop7-[[6_2]]</th>\n",
       "      <th>pop7-[[5_3]]</th>\n",
       "      <th>pop7-[[4_4]]</th>\n",
       "    </tr>\n",
       "  </thead>\n",
       "  <tbody>\n",
       "    <tr>\n",
       "      <th>0</th>\n",
       "      <td>0.713179</td>\n",
       "      <td>0.239843</td>\n",
       "      <td>0.174959</td>\n",
       "      <td>0.080827</td>\n",
       "      <td>0.688062</td>\n",
       "      <td>0.230946</td>\n",
       "      <td>0.173487</td>\n",
       "      <td>0.078543</td>\n",
       "      <td>0.681136</td>\n",
       "      <td>0.226319</td>\n",
       "      <td>0.152894</td>\n",
       "      <td>0.068655</td>\n",
       "      <td>0.652572</td>\n",
       "      <td>0.223852</td>\n",
       "      <td>0.147902</td>\n",
       "      <td>0.063709</td>\n",
       "      <td>0.56207</td>\n",
       "      <td>0.175918</td>\n",
       "      <td>0.119381</td>\n",
       "      <td>0.055943</td>\n",
       "      <td>0.554598</td>\n",
       "      <td>0.172104</td>\n",
       "      <td>0.104578</td>\n",
       "      <td>0.048967</td>\n",
       "      <td>0.513267</td>\n",
       "      <td>0.168348</td>\n",
       "      <td>0.103255</td>\n",
       "      <td>0.045937</td>\n",
       "      <td>0.508127</td>\n",
       "      <td>0.134599</td>\n",
       "      <td>0.095835</td>\n",
       "      <td>0.040184</td>\n",
       "    </tr>\n",
       "  </tbody>\n",
       "</table>\n",
       "</div>"
      ],
      "text/plain": [
       "   pop0-[[7_1]]  pop0-[[6_2]]  pop0-[[5_3]]  pop0-[[4_4]]  pop1-[[7_1]]  \\\n",
       "0      0.713179      0.239843      0.174959      0.080827      0.688062   \n",
       "\n",
       "   pop1-[[6_2]]  pop1-[[5_3]]  pop1-[[4_4]]  pop2-[[7_1]]  pop2-[[6_2]]  \\\n",
       "0      0.230946      0.173487      0.078543      0.681136      0.226319   \n",
       "\n",
       "   pop2-[[5_3]]  pop2-[[4_4]]  pop3-[[7_1]]  pop3-[[6_2]]  pop3-[[5_3]]  \\\n",
       "0      0.152894      0.068655      0.652572      0.223852      0.147902   \n",
       "\n",
       "   pop3-[[4_4]]  pop4-[[7_1]]  pop4-[[6_2]]  pop4-[[5_3]]  pop4-[[4_4]]  \\\n",
       "0      0.063709       0.56207      0.175918      0.119381      0.055943   \n",
       "\n",
       "   pop5-[[7_1]]  pop5-[[6_2]]  pop5-[[5_3]]  pop5-[[4_4]]  pop6-[[7_1]]  \\\n",
       "0      0.554598      0.172104      0.104578      0.048967      0.513267   \n",
       "\n",
       "   pop6-[[6_2]]  pop6-[[5_3]]  pop6-[[4_4]]  pop7-[[7_1]]  pop7-[[6_2]]  \\\n",
       "0      0.168348      0.103255      0.045937      0.508127      0.134599   \n",
       "\n",
       "   pop7-[[5_3]]  pop7-[[4_4]]  \n",
       "0      0.095835      0.040184  "
      ]
     },
     "metadata": {},
     "output_type": "display_data"
    },
    {
     "name": "stdout",
     "output_type": "stream",
     "text": [
      "Predict() started: 2021-11-15 04:05:16.222972\n"
     ]
    }
   ],
   "source": [
    "%%time\n",
    "expanding_sorted_msfs = PTA.msfs.multiSFS(exp_sfs, sort=True, proportions=True)\n",
    "display(expanding_sorted_msfs.df)\n",
    "display(expanding_sorted_msfs.to_dataframe())\n",
    "\n",
    "sim_sorted_df = pd.read_csv(\"./analysis/8pops_8samps_expanding_sims/expanding-sorted-props-SIMOUT.csv\", sep=\" \")\n",
    "\n",
    "gb_params = {'n_estimators': 1000,\n",
    "             'min_samples_split': 5,\n",
    "             'min_samples_leaf': 4,\n",
    "             'max_features': 'auto',\n",
    "             'max_depth': 10,\n",
    "             'learning_rate': 0.012589254117941661}\n",
    "\n",
    "\n",
    "gb_sorted = PTA.inference.Regressor(empirical_df=expanding_sorted_msfs.to_dataframe(),\n",
    "                                       sims=sim_sorted_df,\n",
    "                                       algorithm=\"gb\")\n",
    "gb_sorted.set_targets([\"zeta_e\", \"t_s\", \"omega\"])\n",
    "gb_sorted.set_params(gb_params)\n",
    "gb_sorted_est = gb_sorted.predict(select_features=False,\n",
    "                                     param_search=False,\n",
    "                                     quick=False,\n",
    "                                     verbose=True)\n",
    "axs = gb_sorted.plot_feature_importance()\n",
    "\n",
    "gb_sorted_est"
   ]
  },
  {
   "cell_type": "code",
   "execution_count": 20,
   "metadata": {},
   "outputs": [
    {
     "data": {
      "text/html": [
       "<div>\n",
       "<style scoped>\n",
       "    .dataframe tbody tr th:only-of-type {\n",
       "        vertical-align: middle;\n",
       "    }\n",
       "\n",
       "    .dataframe tbody tr th {\n",
       "        vertical-align: top;\n",
       "    }\n",
       "\n",
       "    .dataframe thead th {\n",
       "        text-align: right;\n",
       "    }\n",
       "</style>\n",
       "<table border=\"1\" class=\"dataframe\">\n",
       "  <thead>\n",
       "    <tr style=\"text-align: right;\">\n",
       "      <th></th>\n",
       "      <th>zeta_e</th>\n",
       "      <th>t_s</th>\n",
       "      <th>omega</th>\n",
       "    </tr>\n",
       "  </thead>\n",
       "  <tbody>\n",
       "    <tr>\n",
       "      <th>estimate</th>\n",
       "      <td>3.163693</td>\n",
       "      <td>328985.598284</td>\n",
       "      <td>185943.688363</td>\n",
       "    </tr>\n",
       "    <tr>\n",
       "      <th>lower 0.025</th>\n",
       "      <td>0.704510</td>\n",
       "      <td>47548.480936</td>\n",
       "      <td>17307.500073</td>\n",
       "    </tr>\n",
       "    <tr>\n",
       "      <th>upper 0.975</th>\n",
       "      <td>8.000000</td>\n",
       "      <td>819979.911221</td>\n",
       "      <td>326816.836978</td>\n",
       "    </tr>\n",
       "  </tbody>\n",
       "</table>\n",
       "</div>"
      ],
      "text/plain": [
       "               zeta_e            t_s          omega\n",
       "estimate     3.163693  328985.598284  185943.688363\n",
       "lower 0.025  0.704510   47548.480936   17307.500073\n",
       "upper 0.975  8.000000  819979.911221  326816.836978"
      ]
     },
     "execution_count": 20,
     "metadata": {},
     "output_type": "execute_result"
    },
    {
     "data": {
      "image/png": "[encoded data removed]",
      "text/plain": [
       "<Figure size 720x864 with 4 Axes>"
      ]
     },
     "metadata": {
      "needs_background": "light"
     },
     "output_type": "display_data"
    }
   ],
   "source": [
    "axs = gb_sorted.plot_feature_importance()\n",
    "\n",
    "gb_sorted_est"
   ]
  },
  {
   "cell_type": "code",
   "execution_count": 21,
   "metadata": {},
   "outputs": [
    {
     "name": "stdout",
     "output_type": "stream",
     "text": [
      "Predict() started: 2021-11-15 07:42:43.216938\n",
      "CPU times: user 91.3 ms, sys: 3.95 ms, total: 95.3 ms\n",
      "Wall time: 93.5 ms\n"
     ]
    },
    {
     "data": {
      "text/plain": [
       "(          zeta_e\n",
       " estimate       4,\n",
       "                0         1         2         3         4         5         6  \\\n",
       " zeta_e  0.015135  0.058484  0.148351  0.144327  0.606141  0.015831  0.007286   \n",
       " \n",
       "                7         8  \n",
       " zeta_e  0.003415  0.001029  )"
      ]
     },
     "execution_count": 21,
     "metadata": {},
     "output_type": "execute_result"
    },
    {
     "data": {
      "image/png": "[encoded data removed]",
      "text/plain": [
       "<Figure size 720x864 with 1 Axes>"
      ]
     },
     "metadata": {
      "needs_background": "light"
     },
     "output_type": "display_data"
    }
   ],
   "source": [
    "%%time\n",
    "gb_sorted_cl.set_data(expanding_sorted_msfs.to_dataframe())\n",
    "gb_class_est = gb_sorted_cl.predict(select_features=False,\\\n",
    "                                    param_search=False,\\\n",
    "                                    quick=True,\\\n",
    "                                    verbose=True)\n",
    "axs = gb_sorted_cl.plot_feature_importance()\n",
    "gb_class_est"
   ]
  },
  {
   "cell_type": "code",
   "execution_count": 25,
   "metadata": {},
   "outputs": [
    {
     "data": {
      "text/plain": [
       "<BarContainer object of 9 artists>"
      ]
     },
     "execution_count": 25,
     "metadata": {},
     "output_type": "execute_result"
    },
    {
     "data": {
      "image/png": "[encoded data removed]",
      "text/plain": [
       "<Figure size 432x288 with 1 Axes>"
      ]
     },
     "metadata": {
      "needs_background": "light"
     },
     "output_type": "display_data"
    }
   ],
   "source": [
    "\n",
    "plt.bar(np.arange(9), gb_class_est[1].values[0])"
   ]
  },
  {
   "cell_type": "markdown",
   "metadata": {},
   "source": [
    "## Stop here"
   ]
  },
  {
   "cell_type": "markdown",
   "metadata": {},
   "source": [
    "## RF Quantile"
   ]
  },
  {
   "cell_type": "markdown",
   "metadata": {},
   "source": [
    "## Unsorted summary statistics"
   ]
  },
  {
   "cell_type": "code",
   "execution_count": 6,
   "metadata": {},
   "outputs": [
    {
     "data": {
      "text/html": [
       "<div>\n",
       "<style scoped>\n",
       "    .dataframe tbody tr th:only-of-type {\n",
       "        vertical-align: middle;\n",
       "    }\n",
       "\n",
       "    .dataframe tbody tr th {\n",
       "        vertical-align: top;\n",
       "    }\n",
       "\n",
       "    .dataframe thead th {\n",
       "        text-align: right;\n",
       "    }\n",
       "</style>\n",
       "<table border=\"1\" class=\"dataframe\">\n",
       "  <thead>\n",
       "    <tr style=\"text-align: right;\">\n",
       "      <th></th>\n",
       "      <th>pop0</th>\n",
       "      <th>pop1</th>\n",
       "      <th>pop2</th>\n",
       "      <th>pop3</th>\n",
       "      <th>pop4</th>\n",
       "      <th>pop5</th>\n",
       "      <th>pop6</th>\n",
       "      <th>pop7</th>\n",
       "    </tr>\n",
       "  </thead>\n",
       "  <tbody>\n",
       "    <tr>\n",
       "      <th>[[7_1]]</th>\n",
       "      <td>0.508127</td>\n",
       "      <td>0.713179</td>\n",
       "      <td>0.688062</td>\n",
       "      <td>0.681136</td>\n",
       "      <td>0.652572</td>\n",
       "      <td>0.562070</td>\n",
       "      <td>0.554598</td>\n",
       "      <td>0.513267</td>\n",
       "    </tr>\n",
       "    <tr>\n",
       "      <th>[[6_2]]</th>\n",
       "      <td>0.239843</td>\n",
       "      <td>0.134599</td>\n",
       "      <td>0.175918</td>\n",
       "      <td>0.168348</td>\n",
       "      <td>0.172104</td>\n",
       "      <td>0.226319</td>\n",
       "      <td>0.223852</td>\n",
       "      <td>0.230946</td>\n",
       "    </tr>\n",
       "    <tr>\n",
       "      <th>[[5_3]]</th>\n",
       "      <td>0.173487</td>\n",
       "      <td>0.103255</td>\n",
       "      <td>0.095835</td>\n",
       "      <td>0.104578</td>\n",
       "      <td>0.119381</td>\n",
       "      <td>0.147902</td>\n",
       "      <td>0.152894</td>\n",
       "      <td>0.174959</td>\n",
       "    </tr>\n",
       "    <tr>\n",
       "      <th>[[4_4]]</th>\n",
       "      <td>0.078543</td>\n",
       "      <td>0.048967</td>\n",
       "      <td>0.040184</td>\n",
       "      <td>0.045937</td>\n",
       "      <td>0.055943</td>\n",
       "      <td>0.063709</td>\n",
       "      <td>0.068655</td>\n",
       "      <td>0.080827</td>\n",
       "    </tr>\n",
       "  </tbody>\n",
       "</table>\n",
       "</div>"
      ],
      "text/plain": [
       "             pop0      pop1      pop2      pop3      pop4      pop5      pop6  \\\n",
       "[[7_1]]  0.508127  0.713179  0.688062  0.681136  0.652572  0.562070  0.554598   \n",
       "[[6_2]]  0.239843  0.134599  0.175918  0.168348  0.172104  0.226319  0.223852   \n",
       "[[5_3]]  0.173487  0.103255  0.095835  0.104578  0.119381  0.147902  0.152894   \n",
       "[[4_4]]  0.078543  0.048967  0.040184  0.045937  0.055943  0.063709  0.068655   \n",
       "\n",
       "             pop7  \n",
       "[[7_1]]  0.513267  \n",
       "[[6_2]]  0.230946  \n",
       "[[5_3]]  0.174959  \n",
       "[[4_4]]  0.080827  "
      ]
     },
     "metadata": {},
     "output_type": "display_data"
    },
    {
     "data": {
      "text/html": [
       "<div>\n",
       "<style scoped>\n",
       "    .dataframe tbody tr th:only-of-type {\n",
       "        vertical-align: middle;\n",
       "    }\n",
       "\n",
       "    .dataframe tbody tr th {\n",
       "        vertical-align: top;\n",
       "    }\n",
       "\n",
       "    .dataframe thead th {\n",
       "        text-align: right;\n",
       "    }\n",
       "</style>\n",
       "<table border=\"1\" class=\"dataframe\">\n",
       "  <thead>\n",
       "    <tr style=\"text-align: right;\">\n",
       "      <th></th>\n",
       "      <th>pop0-[[7_1]]</th>\n",
       "      <th>pop0-[[6_2]]</th>\n",
       "      <th>pop0-[[5_3]]</th>\n",
       "      <th>pop0-[[4_4]]</th>\n",
       "      <th>pop1-[[7_1]]</th>\n",
       "      <th>pop1-[[6_2]]</th>\n",
       "      <th>pop1-[[5_3]]</th>\n",
       "      <th>pop1-[[4_4]]</th>\n",
       "      <th>pop2-[[7_1]]</th>\n",
       "      <th>pop2-[[6_2]]</th>\n",
       "      <th>pop2-[[5_3]]</th>\n",
       "      <th>pop2-[[4_4]]</th>\n",
       "      <th>pop3-[[7_1]]</th>\n",
       "      <th>pop3-[[6_2]]</th>\n",
       "      <th>pop3-[[5_3]]</th>\n",
       "      <th>pop3-[[4_4]]</th>\n",
       "      <th>pop4-[[7_1]]</th>\n",
       "      <th>pop4-[[6_2]]</th>\n",
       "      <th>pop4-[[5_3]]</th>\n",
       "      <th>pop4-[[4_4]]</th>\n",
       "      <th>pop5-[[7_1]]</th>\n",
       "      <th>pop5-[[6_2]]</th>\n",
       "      <th>pop5-[[5_3]]</th>\n",
       "      <th>pop5-[[4_4]]</th>\n",
       "      <th>pop6-[[7_1]]</th>\n",
       "      <th>pop6-[[6_2]]</th>\n",
       "      <th>pop6-[[5_3]]</th>\n",
       "      <th>pop6-[[4_4]]</th>\n",
       "      <th>pop7-[[7_1]]</th>\n",
       "      <th>pop7-[[6_2]]</th>\n",
       "      <th>pop7-[[5_3]]</th>\n",
       "      <th>pop7-[[4_4]]</th>\n",
       "    </tr>\n",
       "  </thead>\n",
       "  <tbody>\n",
       "    <tr>\n",
       "      <th>0</th>\n",
       "      <td>0.508127</td>\n",
       "      <td>0.239843</td>\n",
       "      <td>0.173487</td>\n",
       "      <td>0.078543</td>\n",
       "      <td>0.713179</td>\n",
       "      <td>0.134599</td>\n",
       "      <td>0.103255</td>\n",
       "      <td>0.048967</td>\n",
       "      <td>0.688062</td>\n",
       "      <td>0.175918</td>\n",
       "      <td>0.095835</td>\n",
       "      <td>0.040184</td>\n",
       "      <td>0.681136</td>\n",
       "      <td>0.168348</td>\n",
       "      <td>0.104578</td>\n",
       "      <td>0.045937</td>\n",
       "      <td>0.652572</td>\n",
       "      <td>0.172104</td>\n",
       "      <td>0.119381</td>\n",
       "      <td>0.055943</td>\n",
       "      <td>0.56207</td>\n",
       "      <td>0.226319</td>\n",
       "      <td>0.147902</td>\n",
       "      <td>0.063709</td>\n",
       "      <td>0.554598</td>\n",
       "      <td>0.223852</td>\n",
       "      <td>0.152894</td>\n",
       "      <td>0.068655</td>\n",
       "      <td>0.513267</td>\n",
       "      <td>0.230946</td>\n",
       "      <td>0.174959</td>\n",
       "      <td>0.080827</td>\n",
       "    </tr>\n",
       "  </tbody>\n",
       "</table>\n",
       "</div>"
      ],
      "text/plain": [
       "   pop0-[[7_1]]  pop0-[[6_2]]  pop0-[[5_3]]  pop0-[[4_4]]  pop1-[[7_1]]  \\\n",
       "0      0.508127      0.239843      0.173487      0.078543      0.713179   \n",
       "\n",
       "   pop1-[[6_2]]  pop1-[[5_3]]  pop1-[[4_4]]  pop2-[[7_1]]  pop2-[[6_2]]  \\\n",
       "0      0.134599      0.103255      0.048967      0.688062      0.175918   \n",
       "\n",
       "   pop2-[[5_3]]  pop2-[[4_4]]  pop3-[[7_1]]  pop3-[[6_2]]  pop3-[[5_3]]  \\\n",
       "0      0.095835      0.040184      0.681136      0.168348      0.104578   \n",
       "\n",
       "   pop3-[[4_4]]  pop4-[[7_1]]  pop4-[[6_2]]  pop4-[[5_3]]  pop4-[[4_4]]  \\\n",
       "0      0.045937      0.652572      0.172104      0.119381      0.055943   \n",
       "\n",
       "   pop5-[[7_1]]  pop5-[[6_2]]  pop5-[[5_3]]  pop5-[[4_4]]  pop6-[[7_1]]  \\\n",
       "0       0.56207      0.226319      0.147902      0.063709      0.554598   \n",
       "\n",
       "   pop6-[[6_2]]  pop6-[[5_3]]  pop6-[[4_4]]  pop7-[[7_1]]  pop7-[[6_2]]  \\\n",
       "0      0.223852      0.152894      0.068655      0.513267      0.230946   \n",
       "\n",
       "   pop7-[[5_3]]  pop7-[[4_4]]  \n",
       "0      0.174959      0.080827  "
      ]
     },
     "metadata": {},
     "output_type": "display_data"
    },
    {
     "name": "stdout",
     "output_type": "stream",
     "text": [
      "40000\n"
     ]
    }
   ],
   "source": [
    "expanding_unsorted_msfs = PTA.msfs.multiSFS(exp_sfs, sort=False, proportions=True)\n",
    "display(expanding_unsorted_msfs.df)\n",
    "display(expanding_unsorted_msfs.to_dataframe())\n",
    "\n",
    "sim_unsorted_df = pd.read_csv(\"./analysis/8pops_8samps_expanding_sims/time_in_years/expanding-unsorted-props-SIMOUT.csv\", sep=\" \")\n",
    "print(len(sim_unsorted_df))"
   ]
  },
  {
   "cell_type": "code",
   "execution_count": 8,
   "metadata": {},
   "outputs": [
    {
     "name": "stdout",
     "output_type": "stream",
     "text": [
      "2021-11-14 08:43:23.818684\n",
      "2021-11-14 10:23:55.870330\n"
     ]
    },
    {
     "data": {
      "text/html": [
       "<div>\n",
       "<style scoped>\n",
       "    .dataframe tbody tr th:only-of-type {\n",
       "        vertical-align: middle;\n",
       "    }\n",
       "\n",
       "    .dataframe tbody tr th {\n",
       "        vertical-align: top;\n",
       "    }\n",
       "\n",
       "    .dataframe thead th {\n",
       "        text-align: right;\n",
       "    }\n",
       "</style>\n",
       "<table border=\"1\" class=\"dataframe\">\n",
       "  <thead>\n",
       "    <tr style=\"text-align: right;\">\n",
       "      <th></th>\n",
       "      <th>zeta_e</th>\n",
       "      <th>t_s</th>\n",
       "      <th>omega</th>\n",
       "    </tr>\n",
       "  </thead>\n",
       "  <tbody>\n",
       "    <tr>\n",
       "      <th>estimate</th>\n",
       "      <td>2.629643</td>\n",
       "      <td>515485.465695</td>\n",
       "      <td>189561.203203</td>\n",
       "    </tr>\n",
       "    <tr>\n",
       "      <th>lower 0.025</th>\n",
       "      <td>0.000000</td>\n",
       "      <td>15340.608287</td>\n",
       "      <td>0.000000</td>\n",
       "    </tr>\n",
       "    <tr>\n",
       "      <th>upper 0.975</th>\n",
       "      <td>7.000000</td>\n",
       "      <td>990072.852273</td>\n",
       "      <td>434569.692311</td>\n",
       "    </tr>\n",
       "  </tbody>\n",
       "</table>\n",
       "</div>"
      ],
      "text/plain": [
       "               zeta_e            t_s          omega\n",
       "estimate     2.629643  515485.465695  189561.203203\n",
       "lower 0.025  0.000000   15340.608287       0.000000\n",
       "upper 0.975  7.000000  990072.852273  434569.692311"
      ]
     },
     "execution_count": 8,
     "metadata": {},
     "output_type": "execute_result"
    }
   ],
   "source": [
    "## rfq doesn't like some of the stock rf params above\n",
    "rgrq_params = {'max_depth': 70,\n",
    "    'min_samples_leaf': 4,\n",
    "    'min_samples_split': 5,\n",
    "    'n_estimators': 1400,\n",
    "    'n_jobs': -1,\n",
    "}\n",
    "\n",
    "print(datetime.datetime.now())\n",
    "rgr_unsorted = PTA.inference.Regressor(empirical_df=expanding_unsorted_msfs.to_dataframe(),\n",
    "                                       sims=sim_unsorted_df)\n",
    "rgr_unsorted.set_params(rgrq_params)\n",
    "rgr_unsorted.set_targets([\"zeta_e\", \"t_s\", \"omega\"])\n",
    "est_unsorted = rgr_unsorted.predict(select_features=False,\n",
    "                                    param_search=False,\n",
    "                                    quick=True,\n",
    "                                    verbose=False)\n",
    "print(datetime.datetime.now())\n",
    "est_unsorted"
   ]
  },
  {
   "cell_type": "code",
   "execution_count": 9,
   "metadata": {},
   "outputs": [],
   "source": [
    "axs = rgr_unsorted.plot_feature_importance()"
   ]
  },
  {
   "cell_type": "markdown",
   "metadata": {},
   "source": [
    "## Sorted summary statistics"
   ]
  },
  {
   "cell_type": "code",
   "execution_count": 7,
   "metadata": {},
   "outputs": [
    {
     "data": {
      "text/html": [
       "<div>\n",
       "<style scoped>\n",
       "    .dataframe tbody tr th:only-of-type {\n",
       "        vertical-align: middle;\n",
       "    }\n",
       "\n",
       "    .dataframe tbody tr th {\n",
       "        vertical-align: top;\n",
       "    }\n",
       "\n",
       "    .dataframe thead th {\n",
       "        text-align: right;\n",
       "    }\n",
       "</style>\n",
       "<table border=\"1\" class=\"dataframe\">\n",
       "  <thead>\n",
       "    <tr style=\"text-align: right;\">\n",
       "      <th></th>\n",
       "      <th>pop0</th>\n",
       "      <th>pop1</th>\n",
       "      <th>pop2</th>\n",
       "      <th>pop3</th>\n",
       "      <th>pop4</th>\n",
       "      <th>pop5</th>\n",
       "      <th>pop6</th>\n",
       "      <th>pop7</th>\n",
       "    </tr>\n",
       "  </thead>\n",
       "  <tbody>\n",
       "    <tr>\n",
       "      <th>[[7_1]]</th>\n",
       "      <td>0.713179</td>\n",
       "      <td>0.688062</td>\n",
       "      <td>0.681136</td>\n",
       "      <td>0.652572</td>\n",
       "      <td>0.562070</td>\n",
       "      <td>0.554598</td>\n",
       "      <td>0.513267</td>\n",
       "      <td>0.508127</td>\n",
       "    </tr>\n",
       "    <tr>\n",
       "      <th>[[6_2]]</th>\n",
       "      <td>0.239843</td>\n",
       "      <td>0.230946</td>\n",
       "      <td>0.226319</td>\n",
       "      <td>0.223852</td>\n",
       "      <td>0.175918</td>\n",
       "      <td>0.172104</td>\n",
       "      <td>0.168348</td>\n",
       "      <td>0.134599</td>\n",
       "    </tr>\n",
       "    <tr>\n",
       "      <th>[[5_3]]</th>\n",
       "      <td>0.174959</td>\n",
       "      <td>0.173487</td>\n",
       "      <td>0.152894</td>\n",
       "      <td>0.147902</td>\n",
       "      <td>0.119381</td>\n",
       "      <td>0.104578</td>\n",
       "      <td>0.103255</td>\n",
       "      <td>0.095835</td>\n",
       "    </tr>\n",
       "    <tr>\n",
       "      <th>[[4_4]]</th>\n",
       "      <td>0.080827</td>\n",
       "      <td>0.078543</td>\n",
       "      <td>0.068655</td>\n",
       "      <td>0.063709</td>\n",
       "      <td>0.055943</td>\n",
       "      <td>0.048967</td>\n",
       "      <td>0.045937</td>\n",
       "      <td>0.040184</td>\n",
       "    </tr>\n",
       "  </tbody>\n",
       "</table>\n",
       "</div>"
      ],
      "text/plain": [
       "             pop0      pop1      pop2      pop3      pop4      pop5      pop6  \\\n",
       "[[7_1]]  0.713179  0.688062  0.681136  0.652572  0.562070  0.554598  0.513267   \n",
       "[[6_2]]  0.239843  0.230946  0.226319  0.223852  0.175918  0.172104  0.168348   \n",
       "[[5_3]]  0.174959  0.173487  0.152894  0.147902  0.119381  0.104578  0.103255   \n",
       "[[4_4]]  0.080827  0.078543  0.068655  0.063709  0.055943  0.048967  0.045937   \n",
       "\n",
       "             pop7  \n",
       "[[7_1]]  0.508127  \n",
       "[[6_2]]  0.134599  \n",
       "[[5_3]]  0.095835  \n",
       "[[4_4]]  0.040184  "
      ]
     },
     "metadata": {},
     "output_type": "display_data"
    },
    {
     "data": {
      "text/html": [
       "<div>\n",
       "<style scoped>\n",
       "    .dataframe tbody tr th:only-of-type {\n",
       "        vertical-align: middle;\n",
       "    }\n",
       "\n",
       "    .dataframe tbody tr th {\n",
       "        vertical-align: top;\n",
       "    }\n",
       "\n",
       "    .dataframe thead th {\n",
       "        text-align: right;\n",
       "    }\n",
       "</style>\n",
       "<table border=\"1\" class=\"dataframe\">\n",
       "  <thead>\n",
       "    <tr style=\"text-align: right;\">\n",
       "      <th></th>\n",
       "      <th>pop0-[[7_1]]</th>\n",
       "      <th>pop0-[[6_2]]</th>\n",
       "      <th>pop0-[[5_3]]</th>\n",
       "      <th>pop0-[[4_4]]</th>\n",
       "      <th>pop1-[[7_1]]</th>\n",
       "      <th>pop1-[[6_2]]</th>\n",
       "      <th>pop1-[[5_3]]</th>\n",
       "      <th>pop1-[[4_4]]</th>\n",
       "      <th>pop2-[[7_1]]</th>\n",
       "      <th>pop2-[[6_2]]</th>\n",
       "      <th>pop2-[[5_3]]</th>\n",
       "      <th>pop2-[[4_4]]</th>\n",
       "      <th>pop3-[[7_1]]</th>\n",
       "      <th>pop3-[[6_2]]</th>\n",
       "      <th>pop3-[[5_3]]</th>\n",
       "      <th>pop3-[[4_4]]</th>\n",
       "      <th>pop4-[[7_1]]</th>\n",
       "      <th>pop4-[[6_2]]</th>\n",
       "      <th>pop4-[[5_3]]</th>\n",
       "      <th>pop4-[[4_4]]</th>\n",
       "      <th>pop5-[[7_1]]</th>\n",
       "      <th>pop5-[[6_2]]</th>\n",
       "      <th>pop5-[[5_3]]</th>\n",
       "      <th>pop5-[[4_4]]</th>\n",
       "      <th>pop6-[[7_1]]</th>\n",
       "      <th>pop6-[[6_2]]</th>\n",
       "      <th>pop6-[[5_3]]</th>\n",
       "      <th>pop6-[[4_4]]</th>\n",
       "      <th>pop7-[[7_1]]</th>\n",
       "      <th>pop7-[[6_2]]</th>\n",
       "      <th>pop7-[[5_3]]</th>\n",
       "      <th>pop7-[[4_4]]</th>\n",
       "    </tr>\n",
       "  </thead>\n",
       "  <tbody>\n",
       "    <tr>\n",
       "      <th>0</th>\n",
       "      <td>0.713179</td>\n",
       "      <td>0.239843</td>\n",
       "      <td>0.174959</td>\n",
       "      <td>0.080827</td>\n",
       "      <td>0.688062</td>\n",
       "      <td>0.230946</td>\n",
       "      <td>0.173487</td>\n",
       "      <td>0.078543</td>\n",
       "      <td>0.681136</td>\n",
       "      <td>0.226319</td>\n",
       "      <td>0.152894</td>\n",
       "      <td>0.068655</td>\n",
       "      <td>0.652572</td>\n",
       "      <td>0.223852</td>\n",
       "      <td>0.147902</td>\n",
       "      <td>0.063709</td>\n",
       "      <td>0.56207</td>\n",
       "      <td>0.175918</td>\n",
       "      <td>0.119381</td>\n",
       "      <td>0.055943</td>\n",
       "      <td>0.554598</td>\n",
       "      <td>0.172104</td>\n",
       "      <td>0.104578</td>\n",
       "      <td>0.048967</td>\n",
       "      <td>0.513267</td>\n",
       "      <td>0.168348</td>\n",
       "      <td>0.103255</td>\n",
       "      <td>0.045937</td>\n",
       "      <td>0.508127</td>\n",
       "      <td>0.134599</td>\n",
       "      <td>0.095835</td>\n",
       "      <td>0.040184</td>\n",
       "    </tr>\n",
       "  </tbody>\n",
       "</table>\n",
       "</div>"
      ],
      "text/plain": [
       "   pop0-[[7_1]]  pop0-[[6_2]]  pop0-[[5_3]]  pop0-[[4_4]]  pop1-[[7_1]]  \\\n",
       "0      0.713179      0.239843      0.174959      0.080827      0.688062   \n",
       "\n",
       "   pop1-[[6_2]]  pop1-[[5_3]]  pop1-[[4_4]]  pop2-[[7_1]]  pop2-[[6_2]]  \\\n",
       "0      0.230946      0.173487      0.078543      0.681136      0.226319   \n",
       "\n",
       "   pop2-[[5_3]]  pop2-[[4_4]]  pop3-[[7_1]]  pop3-[[6_2]]  pop3-[[5_3]]  \\\n",
       "0      0.152894      0.068655      0.652572      0.223852      0.147902   \n",
       "\n",
       "   pop3-[[4_4]]  pop4-[[7_1]]  pop4-[[6_2]]  pop4-[[5_3]]  pop4-[[4_4]]  \\\n",
       "0      0.063709       0.56207      0.175918      0.119381      0.055943   \n",
       "\n",
       "   pop5-[[7_1]]  pop5-[[6_2]]  pop5-[[5_3]]  pop5-[[4_4]]  pop6-[[7_1]]  \\\n",
       "0      0.554598      0.172104      0.104578      0.048967      0.513267   \n",
       "\n",
       "   pop6-[[6_2]]  pop6-[[5_3]]  pop6-[[4_4]]  pop7-[[7_1]]  pop7-[[6_2]]  \\\n",
       "0      0.168348      0.103255      0.045937      0.508127      0.134599   \n",
       "\n",
       "   pop7-[[5_3]]  pop7-[[4_4]]  \n",
       "0      0.095835      0.040184  "
      ]
     },
     "metadata": {},
     "output_type": "display_data"
    },
    {
     "name": "stdout",
     "output_type": "stream",
     "text": [
      "40000\n"
     ]
    }
   ],
   "source": [
    "expanding_sorted_msfs = PTA.msfs.multiSFS(exp_sfs, sort=True, proportions=True)\n",
    "display(expanding_sorted_msfs.df)\n",
    "display(expanding_sorted_msfs.to_dataframe())\n",
    "\n",
    "sim_sorted_df = pd.read_csv(\"./analysis/8pops_8samps_expanding_sims/time_in_years/expanding-sorted-props-SIMOUT.csv\", sep=\" \")\n",
    "print(len(sim_sorted_df))"
   ]
  },
  {
   "cell_type": "code",
   "execution_count": 11,
   "metadata": {},
   "outputs": [
    {
     "data": {
      "text/html": [
       "<div>\n",
       "<style scoped>\n",
       "    .dataframe tbody tr th:only-of-type {\n",
       "        vertical-align: middle;\n",
       "    }\n",
       "\n",
       "    .dataframe tbody tr th {\n",
       "        vertical-align: top;\n",
       "    }\n",
       "\n",
       "    .dataframe thead th {\n",
       "        text-align: right;\n",
       "    }\n",
       "</style>\n",
       "<table border=\"1\" class=\"dataframe\">\n",
       "  <thead>\n",
       "    <tr style=\"text-align: right;\">\n",
       "      <th></th>\n",
       "      <th>zeta</th>\n",
       "      <th>zeta_e</th>\n",
       "      <th>psi</th>\n",
       "      <th>t_s</th>\n",
       "      <th>omega</th>\n",
       "      <th>taus_mean</th>\n",
       "      <th>taus_std</th>\n",
       "      <th>taus_skewness</th>\n",
       "      <th>taus_kurtosis</th>\n",
       "      <th>taus_median</th>\n",
       "      <th>taus_iqr</th>\n",
       "      <th>epsilons_mean</th>\n",
       "      <th>epsilons_std</th>\n",
       "      <th>epsilons_skewness</th>\n",
       "      <th>epsilons_kurtosis</th>\n",
       "      <th>epsilons_median</th>\n",
       "      <th>epsilons_iqr</th>\n",
       "      <th>Ne_s_mean</th>\n",
       "      <th>Ne_s_std</th>\n",
       "      <th>Ne_s_skewness</th>\n",
       "      <th>Ne_s_kurtosis</th>\n",
       "      <th>Ne_s_median</th>\n",
       "      <th>Ne_s_iqr</th>\n",
       "    </tr>\n",
       "  </thead>\n",
       "  <tbody>\n",
       "    <tr>\n",
       "      <th>estimate</th>\n",
       "      <td>0.913249</td>\n",
       "      <td>7.570686</td>\n",
       "      <td>0.975156</td>\n",
       "      <td>471607.365583</td>\n",
       "      <td>0.023047</td>\n",
       "      <td>574738.033201</td>\n",
       "      <td>79922.060835</td>\n",
       "      <td>0.003467</td>\n",
       "      <td>-2.671569</td>\n",
       "      <td>563761.472246</td>\n",
       "      <td>98144.564409</td>\n",
       "      <td>9.075726</td>\n",
       "      <td>1.672777</td>\n",
       "      <td>-0.001359</td>\n",
       "      <td>-2.659492</td>\n",
       "      <td>9.315626</td>\n",
       "      <td>1.828270</td>\n",
       "      <td>442588.151097</td>\n",
       "      <td>271315.795364</td>\n",
       "      <td>0.105452</td>\n",
       "      <td>-0.500979</td>\n",
       "      <td>440269.948056</td>\n",
       "      <td>417990.730617</td>\n",
       "    </tr>\n",
       "    <tr>\n",
       "      <th>lower 0.025</th>\n",
       "      <td>0.703627</td>\n",
       "      <td>6.000000</td>\n",
       "      <td>0.686892</td>\n",
       "      <td>31970.284165</td>\n",
       "      <td>0.000000</td>\n",
       "      <td>77150.773154</td>\n",
       "      <td>0.000000</td>\n",
       "      <td>-0.699000</td>\n",
       "      <td>-3.000000</td>\n",
       "      <td>146261.424285</td>\n",
       "      <td>0.000000</td>\n",
       "      <td>2.728016</td>\n",
       "      <td>0.000000</td>\n",
       "      <td>-0.685379</td>\n",
       "      <td>-3.000000</td>\n",
       "      <td>2.668063</td>\n",
       "      <td>0.000000</td>\n",
       "      <td>272895.485987</td>\n",
       "      <td>109291.159311</td>\n",
       "      <td>-1.191724</td>\n",
       "      <td>-1.677097</td>\n",
       "      <td>184697.017760</td>\n",
       "      <td>123281.077273</td>\n",
       "    </tr>\n",
       "    <tr>\n",
       "      <th>upper 0.975</th>\n",
       "      <td>0.995339</td>\n",
       "      <td>8.000000</td>\n",
       "      <td>1.000000</td>\n",
       "      <td>962619.812588</td>\n",
       "      <td>0.440719</td>\n",
       "      <td>975684.020371</td>\n",
       "      <td>403349.492369</td>\n",
       "      <td>0.949154</td>\n",
       "      <td>-1.500000</td>\n",
       "      <td>967200.549635</td>\n",
       "      <td>453785.226025</td>\n",
       "      <td>18.951818</td>\n",
       "      <td>7.095621</td>\n",
       "      <td>0.704000</td>\n",
       "      <td>-1.500000</td>\n",
       "      <td>18.935674</td>\n",
       "      <td>8.476829</td>\n",
       "      <td>743743.362907</td>\n",
       "      <td>359480.446097</td>\n",
       "      <td>1.465142</td>\n",
       "      <td>1.922384</td>\n",
       "      <td>821935.216479</td>\n",
       "      <td>724996.458863</td>\n",
       "    </tr>\n",
       "  </tbody>\n",
       "</table>\n",
       "</div>"
      ],
      "text/plain": [
       "                 zeta    zeta_e       psi            t_s     omega  \\\n",
       "estimate     0.913249  7.570686  0.975156  471607.365583  0.023047   \n",
       "lower 0.025  0.703627  6.000000  0.686892   31970.284165  0.000000   \n",
       "upper 0.975  0.995339  8.000000  1.000000  962619.812588  0.440719   \n",
       "\n",
       "                 taus_mean       taus_std  taus_skewness  taus_kurtosis  \\\n",
       "estimate     574738.033201   79922.060835       0.003467      -2.671569   \n",
       "lower 0.025   77150.773154       0.000000      -0.699000      -3.000000   \n",
       "upper 0.975  975684.020371  403349.492369       0.949154      -1.500000   \n",
       "\n",
       "               taus_median       taus_iqr  epsilons_mean  epsilons_std  \\\n",
       "estimate     563761.472246   98144.564409       9.075726      1.672777   \n",
       "lower 0.025  146261.424285       0.000000       2.728016      0.000000   \n",
       "upper 0.975  967200.549635  453785.226025      18.951818      7.095621   \n",
       "\n",
       "             epsilons_skewness  epsilons_kurtosis  epsilons_median  \\\n",
       "estimate             -0.001359          -2.659492         9.315626   \n",
       "lower 0.025          -0.685379          -3.000000         2.668063   \n",
       "upper 0.975           0.704000          -1.500000        18.935674   \n",
       "\n",
       "             epsilons_iqr      Ne_s_mean       Ne_s_std  Ne_s_skewness  \\\n",
       "estimate         1.828270  442588.151097  271315.795364       0.105452   \n",
       "lower 0.025      0.000000  272895.485987  109291.159311      -1.191724   \n",
       "upper 0.975      8.476829  743743.362907  359480.446097       1.465142   \n",
       "\n",
       "             Ne_s_kurtosis    Ne_s_median       Ne_s_iqr  \n",
       "estimate         -0.500979  440269.948056  417990.730617  \n",
       "lower 0.025      -1.677097  184697.017760  123281.077273  \n",
       "upper 0.975       1.922384  821935.216479  724996.458863  "
      ]
     },
     "execution_count": 11,
     "metadata": {},
     "output_type": "execute_result"
    }
   ],
   "source": [
    " \n",
    "rgr = PTA.inference.Regressor(empirical_df=expanding_sorted_msfs.to_dataframe(),\n",
    "                              sims=sim_sorted_df)\n",
    "rgr.set_params(rgrq_params)\n",
    "est = rgr.predict(select_features=False, param_search=False, quick=True, verbose=False)\n",
    "est"
   ]
  },
  {
   "cell_type": "code",
   "execution_count": 14,
   "metadata": {},
   "outputs": [
    {
     "data": {
      "text/html": [
       "<div>\n",
       "<style scoped>\n",
       "    .dataframe tbody tr th:only-of-type {\n",
       "        vertical-align: middle;\n",
       "    }\n",
       "\n",
       "    .dataframe tbody tr th {\n",
       "        vertical-align: top;\n",
       "    }\n",
       "\n",
       "    .dataframe thead th {\n",
       "        text-align: right;\n",
       "    }\n",
       "</style>\n",
       "<table border=\"1\" class=\"dataframe\">\n",
       "  <thead>\n",
       "    <tr style=\"text-align: right;\">\n",
       "      <th></th>\n",
       "      <th>zeta</th>\n",
       "      <th>zeta_e</th>\n",
       "      <th>psi</th>\n",
       "      <th>t_s</th>\n",
       "      <th>omega</th>\n",
       "      <th>taus_mean</th>\n",
       "      <th>taus_std</th>\n",
       "      <th>taus_skewness</th>\n",
       "      <th>taus_kurtosis</th>\n",
       "      <th>taus_median</th>\n",
       "      <th>taus_iqr</th>\n",
       "      <th>epsilons_mean</th>\n",
       "      <th>epsilons_std</th>\n",
       "      <th>epsilons_skewness</th>\n",
       "      <th>epsilons_kurtosis</th>\n",
       "      <th>epsilons_median</th>\n",
       "      <th>epsilons_iqr</th>\n",
       "      <th>Ne_s_mean</th>\n",
       "      <th>Ne_s_std</th>\n",
       "      <th>Ne_s_skewness</th>\n",
       "      <th>Ne_s_kurtosis</th>\n",
       "      <th>Ne_s_median</th>\n",
       "      <th>Ne_s_iqr</th>\n",
       "    </tr>\n",
       "  </thead>\n",
       "  <tbody>\n",
       "    <tr>\n",
       "      <th>estimate</th>\n",
       "      <td>0.913249</td>\n",
       "      <td>7.570686</td>\n",
       "      <td>0.975156</td>\n",
       "      <td>471607.365583</td>\n",
       "      <td>0.023047</td>\n",
       "      <td>574738.033201</td>\n",
       "      <td>79922.060835</td>\n",
       "      <td>0.003467</td>\n",
       "      <td>-2.671569</td>\n",
       "      <td>563761.472246</td>\n",
       "      <td>98144.564409</td>\n",
       "      <td>9.075726</td>\n",
       "      <td>1.672777</td>\n",
       "      <td>-0.001359</td>\n",
       "      <td>-2.659492</td>\n",
       "      <td>9.315626</td>\n",
       "      <td>1.828270</td>\n",
       "      <td>442588.151097</td>\n",
       "      <td>271315.795364</td>\n",
       "      <td>0.105452</td>\n",
       "      <td>-0.500979</td>\n",
       "      <td>440269.948056</td>\n",
       "      <td>417990.730617</td>\n",
       "    </tr>\n",
       "    <tr>\n",
       "      <th>lower 0.025</th>\n",
       "      <td>0.703627</td>\n",
       "      <td>6.000000</td>\n",
       "      <td>0.686892</td>\n",
       "      <td>31970.284165</td>\n",
       "      <td>0.000000</td>\n",
       "      <td>77150.773154</td>\n",
       "      <td>0.000000</td>\n",
       "      <td>-0.699000</td>\n",
       "      <td>-3.000000</td>\n",
       "      <td>146261.424285</td>\n",
       "      <td>0.000000</td>\n",
       "      <td>2.728016</td>\n",
       "      <td>0.000000</td>\n",
       "      <td>-0.685379</td>\n",
       "      <td>-3.000000</td>\n",
       "      <td>2.668063</td>\n",
       "      <td>0.000000</td>\n",
       "      <td>272895.485987</td>\n",
       "      <td>109291.159311</td>\n",
       "      <td>-1.191724</td>\n",
       "      <td>-1.677097</td>\n",
       "      <td>184697.017760</td>\n",
       "      <td>123281.077273</td>\n",
       "    </tr>\n",
       "    <tr>\n",
       "      <th>upper 0.975</th>\n",
       "      <td>0.995339</td>\n",
       "      <td>8.000000</td>\n",
       "      <td>1.000000</td>\n",
       "      <td>962619.812588</td>\n",
       "      <td>0.440719</td>\n",
       "      <td>975684.020371</td>\n",
       "      <td>403349.492369</td>\n",
       "      <td>0.949154</td>\n",
       "      <td>-1.500000</td>\n",
       "      <td>967200.549635</td>\n",
       "      <td>453785.226025</td>\n",
       "      <td>18.951818</td>\n",
       "      <td>7.095621</td>\n",
       "      <td>0.704000</td>\n",
       "      <td>-1.500000</td>\n",
       "      <td>18.935674</td>\n",
       "      <td>8.476829</td>\n",
       "      <td>743743.362907</td>\n",
       "      <td>359480.446097</td>\n",
       "      <td>1.465142</td>\n",
       "      <td>1.922384</td>\n",
       "      <td>821935.216479</td>\n",
       "      <td>724996.458863</td>\n",
       "    </tr>\n",
       "  </tbody>\n",
       "</table>\n",
       "</div>"
      ],
      "text/plain": [
       "                 zeta    zeta_e       psi            t_s     omega  \\\n",
       "estimate     0.913249  7.570686  0.975156  471607.365583  0.023047   \n",
       "lower 0.025  0.703627  6.000000  0.686892   31970.284165  0.000000   \n",
       "upper 0.975  0.995339  8.000000  1.000000  962619.812588  0.440719   \n",
       "\n",
       "                 taus_mean       taus_std  taus_skewness  taus_kurtosis  \\\n",
       "estimate     574738.033201   79922.060835       0.003467      -2.671569   \n",
       "lower 0.025   77150.773154       0.000000      -0.699000      -3.000000   \n",
       "upper 0.975  975684.020371  403349.492369       0.949154      -1.500000   \n",
       "\n",
       "               taus_median       taus_iqr  epsilons_mean  epsilons_std  \\\n",
       "estimate     563761.472246   98144.564409       9.075726      1.672777   \n",
       "lower 0.025  146261.424285       0.000000       2.728016      0.000000   \n",
       "upper 0.975  967200.549635  453785.226025      18.951818      7.095621   \n",
       "\n",
       "             epsilons_skewness  epsilons_kurtosis  epsilons_median  \\\n",
       "estimate             -0.001359          -2.659492         9.315626   \n",
       "lower 0.025          -0.685379          -3.000000         2.668063   \n",
       "upper 0.975           0.704000          -1.500000        18.935674   \n",
       "\n",
       "             epsilons_iqr      Ne_s_mean       Ne_s_std  Ne_s_skewness  \\\n",
       "estimate         1.828270  442588.151097  271315.795364       0.105452   \n",
       "lower 0.025      0.000000  272895.485987  109291.159311      -1.191724   \n",
       "upper 0.975      8.476829  743743.362907  359480.446097       1.465142   \n",
       "\n",
       "             Ne_s_kurtosis    Ne_s_median       Ne_s_iqr  \n",
       "estimate         -0.500979  440269.948056  417990.730617  \n",
       "lower 0.025      -1.677097  184697.017760  123281.077273  \n",
       "upper 0.975       1.922384  821935.216479  724996.458863  "
      ]
     },
     "metadata": {},
     "output_type": "display_data"
    },
    {
     "data": {
      "image/png": "[encoded data removed]",
      "text/plain": [
       "<Figure size 720x864 with 24 Axes>"
      ]
     },
     "metadata": {
      "needs_background": "light"
     },
     "output_type": "display_data"
    }
   ],
   "source": [
    "display(est)\n",
    "axs = rgr.plot_feature_importance()"
   ]
  },
  {
   "cell_type": "markdown",
   "metadata": {},
   "source": [
    "# RandomForest"
   ]
  },
  {
   "cell_type": "code",
   "execution_count": null,
   "metadata": {},
   "outputs": [],
   "source": [
    "## parameters from a cv_search process which took like a day, don't want to redo it.\n",
    "rgr_params = {'bootstrap': True,\n",
    " 'ccp_alpha': 0.0,\n",
    " 'criterion': 'mse',\n",
    " 'max_depth': 70,\n",
    " 'max_features': 'auto',\n",
    " 'max_leaf_nodes': None,\n",
    " 'max_samples': None,\n",
    " 'min_impurity_decrease': 0.0,\n",
    " 'min_impurity_split': None,\n",
    " 'min_samples_leaf': 4,\n",
    " 'min_samples_split': 5,\n",
    " 'min_weight_fraction_leaf': 0.0,\n",
    " 'n_estimators': 1400,\n",
    " 'n_jobs': None,\n",
    " 'oob_score': False,\n",
    " 'random_state': None,\n",
    " 'verbose': 0,\n",
    " 'warm_start': False}"
   ]
  },
  {
   "cell_type": "markdown",
   "metadata": {},
   "source": [
    "## Unsorted\n",
    "\n",
    "    w/ quick=True\n",
    "    2021-09-16 10:23:53.176613\n",
    "    2021-09-16 10:26:10.980052\n",
    "    \n",
    "                  zeta_e\tt_s    omega\n",
    "    estimate\t5.546885\t491896.23111\t0.000291"
   ]
  },
  {
   "cell_type": "code",
   "execution_count": 30,
   "metadata": {},
   "outputs": [
    {
     "name": "stdout",
     "output_type": "stream",
     "text": [
      "2021-09-16 10:32:02.732011\n",
      "2021-09-16 10:34:16.433432\n"
     ]
    },
    {
     "data": {
      "text/html": [
       "<div>\n",
       "<style scoped>\n",
       "    .dataframe tbody tr th:only-of-type {\n",
       "        vertical-align: middle;\n",
       "    }\n",
       "\n",
       "    .dataframe tbody tr th {\n",
       "        vertical-align: top;\n",
       "    }\n",
       "\n",
       "    .dataframe thead th {\n",
       "        text-align: right;\n",
       "    }\n",
       "</style>\n",
       "<table border=\"1\" class=\"dataframe\">\n",
       "  <thead>\n",
       "    <tr style=\"text-align: right;\">\n",
       "      <th></th>\n",
       "      <th>zeta_e</th>\n",
       "      <th>t_s</th>\n",
       "      <th>omega</th>\n",
       "    </tr>\n",
       "  </thead>\n",
       "  <tbody>\n",
       "    <tr>\n",
       "      <th>estimate</th>\n",
       "      <td>5.570182</td>\n",
       "      <td>511872.977605</td>\n",
       "      <td>0.000146</td>\n",
       "    </tr>\n",
       "  </tbody>\n",
       "</table>\n",
       "</div>"
      ],
      "text/plain": [
       "            zeta_e            t_s     omega\n",
       "estimate  5.570182  511872.977605  0.000146"
      ]
     },
     "execution_count": 30,
     "metadata": {},
     "output_type": "execute_result"
    },
    {
     "data": {
      "image/png": "[encoded data removed]",
      "text/plain": [
       "<Figure size 720x864 with 1 Axes>"
      ]
     },
     "metadata": {
      "needs_background": "light"
     },
     "output_type": "display_data"
    }
   ],
   "source": [
    "print(datetime.datetime.now())\n",
    "rfrgr_unsorted = PTA.inference.Regressor(empirical_df=expanding_unsorted_msfs.to_dataframe(),\n",
    "                                       sims=sim_unsorted_df,\n",
    "                                       algorithm=\"rf\")\n",
    "rfrgr_unsorted.set_params(rgr_params)\n",
    "rfrgr_unsorted.set_targets([\"zeta_e\", \"t_s\", \"omega\"])\n",
    "rfest_unsorted = rfrgr_unsorted.predict(select_features=False,\n",
    "                                        param_search=False,\n",
    "                                        quick=False,\n",
    "                                        verbose=False)\n",
    "axs = rfrgr_unsorted.plot_feature_importance()\n",
    "print(datetime.datetime.now())\n",
    "rfest_unsorted"
   ]
  },
  {
   "cell_type": "markdown",
   "metadata": {},
   "source": [
    "## Sorted"
   ]
  },
  {
   "cell_type": "code",
   "execution_count": 29,
   "metadata": {},
   "outputs": [
    {
     "name": "stdout",
     "output_type": "stream",
     "text": [
      "2021-09-16 10:26:48.683367\n",
      "2021-09-16 10:27:35.700765\n"
     ]
    },
    {
     "data": {
      "text/html": [
       "<div>\n",
       "<style scoped>\n",
       "    .dataframe tbody tr th:only-of-type {\n",
       "        vertical-align: middle;\n",
       "    }\n",
       "\n",
       "    .dataframe tbody tr th {\n",
       "        vertical-align: top;\n",
       "    }\n",
       "\n",
       "    .dataframe thead th {\n",
       "        text-align: right;\n",
       "    }\n",
       "</style>\n",
       "<table border=\"1\" class=\"dataframe\">\n",
       "  <thead>\n",
       "    <tr style=\"text-align: right;\">\n",
       "      <th></th>\n",
       "      <th>zeta</th>\n",
       "      <th>zeta_e</th>\n",
       "      <th>psi</th>\n",
       "      <th>t_s</th>\n",
       "      <th>omega</th>\n",
       "      <th>taus_mean</th>\n",
       "      <th>taus_std</th>\n",
       "      <th>taus_skewness</th>\n",
       "      <th>taus_kurtosis</th>\n",
       "      <th>taus_median</th>\n",
       "      <th>taus_iqr</th>\n",
       "      <th>epsilons_mean</th>\n",
       "      <th>epsilons_std</th>\n",
       "      <th>epsilons_skewness</th>\n",
       "      <th>epsilons_kurtosis</th>\n",
       "      <th>epsilons_median</th>\n",
       "      <th>epsilons_iqr</th>\n",
       "      <th>Ne_s_mean</th>\n",
       "      <th>Ne_s_std</th>\n",
       "      <th>Ne_s_skewness</th>\n",
       "      <th>Ne_s_kurtosis</th>\n",
       "      <th>Ne_s_median</th>\n",
       "      <th>Ne_s_iqr</th>\n",
       "    </tr>\n",
       "  </thead>\n",
       "  <tbody>\n",
       "    <tr>\n",
       "      <th>estimate</th>\n",
       "      <td>0.919058</td>\n",
       "      <td>7.498678</td>\n",
       "      <td>1.0</td>\n",
       "      <td>562300.646591</td>\n",
       "      <td>0.000237</td>\n",
       "      <td>529919.236914</td>\n",
       "      <td>63507.039815</td>\n",
       "      <td>0.013191</td>\n",
       "      <td>-2.573644</td>\n",
       "      <td>527670.62406</td>\n",
       "      <td>68763.692536</td>\n",
       "      <td>9.001999</td>\n",
       "      <td>1.199052</td>\n",
       "      <td>0.018966</td>\n",
       "      <td>-2.576952</td>\n",
       "      <td>8.882011</td>\n",
       "      <td>1.293557</td>\n",
       "      <td>444506.0802</td>\n",
       "      <td>288094.450701</td>\n",
       "      <td>0.074864</td>\n",
       "      <td>-0.998961</td>\n",
       "      <td>436420.442863</td>\n",
       "      <td>424836.252765</td>\n",
       "    </tr>\n",
       "  </tbody>\n",
       "</table>\n",
       "</div>"
      ],
      "text/plain": [
       "              zeta    zeta_e  psi            t_s     omega      taus_mean  \\\n",
       "estimate  0.919058  7.498678  1.0  562300.646591  0.000237  529919.236914   \n",
       "\n",
       "              taus_std  taus_skewness  taus_kurtosis   taus_median  \\\n",
       "estimate  63507.039815       0.013191      -2.573644  527670.62406   \n",
       "\n",
       "              taus_iqr  epsilons_mean  epsilons_std  epsilons_skewness  \\\n",
       "estimate  68763.692536       9.001999      1.199052           0.018966   \n",
       "\n",
       "          epsilons_kurtosis  epsilons_median  epsilons_iqr    Ne_s_mean  \\\n",
       "estimate          -2.576952         8.882011      1.293557  444506.0802   \n",
       "\n",
       "               Ne_s_std  Ne_s_skewness  Ne_s_kurtosis    Ne_s_median  \\\n",
       "estimate  288094.450701       0.074864      -0.998961  436420.442863   \n",
       "\n",
       "               Ne_s_iqr  \n",
       "estimate  424836.252765  "
      ]
     },
     "execution_count": 29,
     "metadata": {},
     "output_type": "execute_result"
    },
    {
     "data": {
      "image/png": "[encoded data removed]",
      "text/plain": [
       "<Figure size 720x864 with 1 Axes>"
      ]
     },
     "metadata": {
      "needs_background": "light"
     },
     "output_type": "display_data"
    }
   ],
   "source": [
    "print(datetime.datetime.now())\n",
    "rfrgr = PTA.inference.Regressor(empirical_df=expanding_sorted_msfs.to_dataframe(),\n",
    "                              sims=sim_sorted_df,\n",
    "                              algorithm=\"rf\")\n",
    "rfrgr.set_params(rgr_params)\n",
    "rfrgr_unsorted.set_targets([\"zeta_e\", \"t_s\", \"omega\"])\n",
    "rfest_sorted = rfrgr.predict(select_features=False,\n",
    "                             param_search=False,\n",
    "                             quick=True,\n",
    "                             verbose=False)\n",
    "axs = rfrgr_unsorted.plot_feature_importance()\n",
    "print(datetime.datetime.now())\n",
    "rfest_sorted"
   ]
  },
  {
   "cell_type": "markdown",
   "metadata": {},
   "source": [
    "# GB\n",
    "\n",
    "```\n",
    "Best params for zeta_e: {'n_estimators': 1000, 'min_samples_split': 5, 'min_samples_leaf': 4, 'max_features': 'auto', 'max_depth': 10, 'learning_rate': 0.012589254117941661}\n",
    "\n",
    "Best params for t_s: {'n_estimators': 2000, 'min_samples_split': 2, 'min_samples_leaf': 4, 'max_features': 'sqrt', 'max_depth': 70, 'learning_rate': 0.0025118864315095794}\n",
    "```"
   ]
  },
  {
   "cell_type": "code",
   "execution_count": 10,
   "metadata": {},
   "outputs": [],
   "source": [
    "gb_params = {'n_estimators': 1000,\n",
    "             'min_samples_split': 5,\n",
    "             'min_samples_leaf': 4,\n",
    "             'max_features': 'auto',\n",
    "             'max_depth': 10,\n",
    "             'learning_rate': 0.012589254117941661}"
   ]
  },
  {
   "cell_type": "markdown",
   "metadata": {},
   "source": [
    "## Unsorted"
   ]
  },
  {
   "cell_type": "code",
   "execution_count": 11,
   "metadata": {},
   "outputs": [
    {
     "name": "stdout",
     "output_type": "stream",
     "text": [
      "2021-11-14 05:03:12.064021\n",
      "Predict() started: 2021-11-14 05:03:12.094356\n",
      "Predict() finished: 2021-11-14 05:32:35.213929\n",
      "Calculating prediction interval(s)\n",
      "\tzeta_e\n",
      "\tt_s\n",
      "\tomega\n",
      "2021-11-14 06:31:15.317381\n"
     ]
    },
    {
     "data": {
      "text/html": [
       "<div>\n",
       "<style scoped>\n",
       "    .dataframe tbody tr th:only-of-type {\n",
       "        vertical-align: middle;\n",
       "    }\n",
       "\n",
       "    .dataframe tbody tr th {\n",
       "        vertical-align: top;\n",
       "    }\n",
       "\n",
       "    .dataframe thead th {\n",
       "        text-align: right;\n",
       "    }\n",
       "</style>\n",
       "<table border=\"1\" class=\"dataframe\">\n",
       "  <thead>\n",
       "    <tr style=\"text-align: right;\">\n",
       "      <th></th>\n",
       "      <th>zeta_e</th>\n",
       "      <th>t_s</th>\n",
       "      <th>omega</th>\n",
       "    </tr>\n",
       "  </thead>\n",
       "  <tbody>\n",
       "    <tr>\n",
       "      <th>estimate</th>\n",
       "      <td>1.843346</td>\n",
       "      <td>514344.718887</td>\n",
       "      <td>169701.905038</td>\n",
       "    </tr>\n",
       "    <tr>\n",
       "      <th>lower 0.025</th>\n",
       "      <td>0.250150</td>\n",
       "      <td>24212.828328</td>\n",
       "      <td>40102.962476</td>\n",
       "    </tr>\n",
       "    <tr>\n",
       "      <th>upper 0.975</th>\n",
       "      <td>6.602692</td>\n",
       "      <td>926759.796947</td>\n",
       "      <td>342330.147558</td>\n",
       "    </tr>\n",
       "  </tbody>\n",
       "</table>\n",
       "</div>"
      ],
      "text/plain": [
       "               zeta_e            t_s          omega\n",
       "estimate     1.843346  514344.718887  169701.905038\n",
       "lower 0.025  0.250150   24212.828328   40102.962476\n",
       "upper 0.975  6.602692  926759.796947  342330.147558"
      ]
     },
     "execution_count": 11,
     "metadata": {},
     "output_type": "execute_result"
    }
   ],
   "source": [
    "print(datetime.datetime.now())\n",
    "gb_unsorted = PTA.inference.Regressor(empirical_df=expanding_unsorted_msfs.to_dataframe(),\n",
    "                                       sims=sim_unsorted_df,\n",
    "                                       algorithm=\"gb\")\n",
    "gb_unsorted.set_targets([\"zeta_e\", \"t_s\", \"omega\"])\n",
    "gb_unsorted.set_params(gb_params)\n",
    "gb_unsorted_est = gb_unsorted.predict(select_features=False,\n",
    "                                     param_search=False,\n",
    "                                     quick=False,\n",
    "                                     verbose=True)\n",
    "axs = gb_unsorted.plot_feature_importance()\n",
    "print(datetime.datetime.now())\n",
    "gb_unsorted_est"
   ]
  },
  {
   "cell_type": "code",
   "execution_count": 15,
   "metadata": {},
   "outputs": [
    {
     "data": {
      "image/png": "[encoded data removed]",
      "text/plain": [
       "<Figure size 720x864 with 4 Axes>"
      ]
     },
     "metadata": {
      "needs_background": "light"
     },
     "output_type": "display_data"
    }
   ],
   "source": [
    "axs = gb_unsorted.plot_feature_importance()\n"
   ]
  },
  {
   "cell_type": "markdown",
   "metadata": {},
   "source": [
    "## Sorted"
   ]
  },
  {
   "cell_type": "code",
   "execution_count": 12,
   "metadata": {},
   "outputs": [
    {
     "name": "stdout",
     "output_type": "stream",
     "text": [
      "2021-11-14 06:31:15.458794\n",
      "Predict() started: 2021-11-14 06:31:15.501820\n",
      "Predict() finished: 2021-11-14 06:57:26.250948\n",
      "Calculating prediction interval(s)\n",
      "\tzeta_e\n",
      "\tt_s\n",
      "\tomega\n",
      "2021-11-14 07:53:13.067788\n"
     ]
    },
    {
     "data": {
      "text/html": [
       "<div>\n",
       "<style scoped>\n",
       "    .dataframe tbody tr th:only-of-type {\n",
       "        vertical-align: middle;\n",
       "    }\n",
       "\n",
       "    .dataframe tbody tr th {\n",
       "        vertical-align: top;\n",
       "    }\n",
       "\n",
       "    .dataframe thead th {\n",
       "        text-align: right;\n",
       "    }\n",
       "</style>\n",
       "<table border=\"1\" class=\"dataframe\">\n",
       "  <thead>\n",
       "    <tr style=\"text-align: right;\">\n",
       "      <th></th>\n",
       "      <th>zeta_e</th>\n",
       "      <th>t_s</th>\n",
       "      <th>omega</th>\n",
       "    </tr>\n",
       "  </thead>\n",
       "  <tbody>\n",
       "    <tr>\n",
       "      <th>estimate</th>\n",
       "      <td>3.109540</td>\n",
       "      <td>505843.444110</td>\n",
       "      <td>168103.495999</td>\n",
       "    </tr>\n",
       "    <tr>\n",
       "      <th>lower 0.025</th>\n",
       "      <td>1.417752</td>\n",
       "      <td>32463.041867</td>\n",
       "      <td>28593.029260</td>\n",
       "    </tr>\n",
       "    <tr>\n",
       "      <th>upper 0.975</th>\n",
       "      <td>5.869906</td>\n",
       "      <td>901508.377430</td>\n",
       "      <td>347981.800273</td>\n",
       "    </tr>\n",
       "  </tbody>\n",
       "</table>\n",
       "</div>"
      ],
      "text/plain": [
       "               zeta_e            t_s          omega\n",
       "estimate     3.109540  505843.444110  168103.495999\n",
       "lower 0.025  1.417752   32463.041867   28593.029260\n",
       "upper 0.975  5.869906  901508.377430  347981.800273"
      ]
     },
     "execution_count": 12,
     "metadata": {},
     "output_type": "execute_result"
    }
   ],
   "source": [
    "print(datetime.datetime.now())\n",
    "\n",
    "gb_params = {'n_estimators': 1000,\n",
    "             'min_samples_split': 5,\n",
    "             'min_samples_leaf': 4,\n",
    "             'max_features': 'auto',\n",
    "             'max_depth': 10,\n",
    "             'learning_rate': 0.012589254117941661}\n",
    "\n",
    "gb_sorted = PTA.inference.Regressor(empirical_df=expanding_sorted_msfs.to_dataframe(),\n",
    "                                       sims=sim_sorted_df,\n",
    "                                       algorithm=\"gb\")\n",
    "gb_sorted.set_targets([\"zeta_e\", \"t_s\", \"omega\"])\n",
    "gb_sorted.set_params(gb_params)\n",
    "gb_sorted_est = gb_sorted.predict(select_features=False,\n",
    "                                     param_search=False,\n",
    "                                     quick=False,\n",
    "                                     verbose=True)\n",
    "axs = gb_sorted.plot_feature_importance()\n",
    "print(datetime.datetime.now())\n",
    "gb_sorted_est"
   ]
  },
  {
   "cell_type": "code",
   "execution_count": 14,
   "metadata": {},
   "outputs": [
    {
     "data": {
      "image/png": "[encoded data removed]",
      "text/plain": [
       "<Figure size 720x864 with 4 Axes>"
      ]
     },
     "metadata": {
      "needs_background": "light"
     },
     "output_type": "display_data"
    }
   ],
   "source": [
    "axs = gb_sorted.plot_feature_importance()\n"
   ]
  }
 ],
 "metadata": {
  "kernelspec": {
   "display_name": "Python 3",
   "language": "python",
   "name": "python3"
  },
  "language_info": {
   "codemirror_mode": {
    "name": "ipython",
    "version": 3
   },
   "file_extension": ".py",
   "mimetype": "text/x-python",
   "name": "python",
   "nbconvert_exporter": "python",
   "pygments_lexer": "ipython3",
   "version": "3.6.12"
  }
 },
 "nbformat": 4,
 "nbformat_minor": 4
}
